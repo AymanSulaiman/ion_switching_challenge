{
 "cells": [
  {
   "cell_type": "code",
   "execution_count": 1,
   "id": "ba527bd6-d08d-486d-a0c1-eeaa051af687",
   "metadata": {},
   "outputs": [],
   "source": [
    "import pandas as pd\n",
    "import numpy as np\n",
    "import matplotlib.pyplot as plt\n",
    "from mpl_toolkits import mplot3d\n",
    "import os\n",
    "import seaborn as sns\n",
    "\n",
    "import pywt\n",
    "import scipy\n",
    "from scipy import signal\n",
    "from scipy.signal import butter, deconvolve"
   ]
  },
  {
   "cell_type": "code",
   "execution_count": 2,
   "id": "8e3685a6-6cd8-42d1-a047-1c453f4adfe3",
   "metadata": {},
   "outputs": [],
   "source": [
    "test_path = os.path.join('..','data','test.csv')\n",
    "train_path = os.path.join('..','data','train.csv')\n",
    "\n",
    "test_df = pd.read_csv(test_path)\n",
    "train_df = pd.read_csv(train_path)"
   ]
  },
  {
   "cell_type": "code",
   "execution_count": 3,
   "id": "11860dda-3a25-4b54-8079-d72c9befd5fd",
   "metadata": {},
   "outputs": [],
   "source": [
    "def maddest(d, axis=None):\n",
    "    return np.mean(np.absolute(d - np.mean(d, axis)), axis)\n",
    "\n",
    "def denoise_signal(x, wavelet='db4', level=1):\n",
    "    coeff = pywt.wavedec(x, wavelet, mode=\"per\")\n",
    "    sigma = (1/0.6745) * maddest(coeff[-level])\n",
    "\n",
    "    uthresh = sigma * np.sqrt(2*np.log(len(x)))\n",
    "    coeff[1:] = (pywt.threshold(i, value=uthresh, mode='hard') for i in coeff[1:])\n",
    "\n",
    "    return pywt.waverec(coeff, wavelet, mode='per')"
   ]
  },
  {
   "cell_type": "code",
   "execution_count": 4,
   "id": "95af5440-6d30-4bdb-bc8b-79674f3a2b8c",
   "metadata": {},
   "outputs": [
    {
     "data": {
      "text/html": [
       "<div>\n",
       "<style scoped>\n",
       "    .dataframe tbody tr th:only-of-type {\n",
       "        vertical-align: middle;\n",
       "    }\n",
       "\n",
       "    .dataframe tbody tr th {\n",
       "        vertical-align: top;\n",
       "    }\n",
       "\n",
       "    .dataframe thead th {\n",
       "        text-align: right;\n",
       "    }\n",
       "</style>\n",
       "<table border=\"1\" class=\"dataframe\">\n",
       "  <thead>\n",
       "    <tr style=\"text-align: right;\">\n",
       "      <th></th>\n",
       "      <th>time</th>\n",
       "      <th>signal_denoised</th>\n",
       "      <th>open_channels_train</th>\n",
       "    </tr>\n",
       "  </thead>\n",
       "  <tbody>\n",
       "    <tr>\n",
       "      <th>0</th>\n",
       "      <td>0.0001</td>\n",
       "      <td>-2.497504</td>\n",
       "      <td>0</td>\n",
       "    </tr>\n",
       "    <tr>\n",
       "      <th>1</th>\n",
       "      <td>0.0002</td>\n",
       "      <td>-3.543952</td>\n",
       "      <td>0</td>\n",
       "    </tr>\n",
       "    <tr>\n",
       "      <th>2</th>\n",
       "      <td>0.0003</td>\n",
       "      <td>-0.952305</td>\n",
       "      <td>0</td>\n",
       "    </tr>\n",
       "    <tr>\n",
       "      <th>3</th>\n",
       "      <td>0.0004</td>\n",
       "      <td>-1.326738</td>\n",
       "      <td>0</td>\n",
       "    </tr>\n",
       "    <tr>\n",
       "      <th>4</th>\n",
       "      <td>0.0005</td>\n",
       "      <td>-3.603200</td>\n",
       "      <td>0</td>\n",
       "    </tr>\n",
       "    <tr>\n",
       "      <th>...</th>\n",
       "      <td>...</td>\n",
       "      <td>...</td>\n",
       "      <td>...</td>\n",
       "    </tr>\n",
       "    <tr>\n",
       "      <th>4999995</th>\n",
       "      <td>499.9996</td>\n",
       "      <td>3.296552</td>\n",
       "      <td>7</td>\n",
       "    </tr>\n",
       "    <tr>\n",
       "      <th>4999996</th>\n",
       "      <td>499.9997</td>\n",
       "      <td>3.586595</td>\n",
       "      <td>7</td>\n",
       "    </tr>\n",
       "    <tr>\n",
       "      <th>4999997</th>\n",
       "      <td>499.9998</td>\n",
       "      <td>3.957363</td>\n",
       "      <td>8</td>\n",
       "    </tr>\n",
       "    <tr>\n",
       "      <th>4999998</th>\n",
       "      <td>499.9999</td>\n",
       "      <td>4.474106</td>\n",
       "      <td>9</td>\n",
       "    </tr>\n",
       "    <tr>\n",
       "      <th>4999999</th>\n",
       "      <td>500.0000</td>\n",
       "      <td>2.416632</td>\n",
       "      <td>9</td>\n",
       "    </tr>\n",
       "  </tbody>\n",
       "</table>\n",
       "<p>5000000 rows × 3 columns</p>\n",
       "</div>"
      ],
      "text/plain": [
       "             time  signal_denoised  open_channels_train\n",
       "0          0.0001        -2.497504                    0\n",
       "1          0.0002        -3.543952                    0\n",
       "2          0.0003        -0.952305                    0\n",
       "3          0.0004        -1.326738                    0\n",
       "4          0.0005        -3.603200                    0\n",
       "...           ...              ...                  ...\n",
       "4999995  499.9996         3.296552                    7\n",
       "4999996  499.9997         3.586595                    7\n",
       "4999997  499.9998         3.957363                    8\n",
       "4999998  499.9999         4.474106                    9\n",
       "4999999  500.0000         2.416632                    9\n",
       "\n",
       "[5000000 rows x 3 columns]"
      ]
     },
     "execution_count": 4,
     "metadata": {},
     "output_type": "execute_result"
    }
   ],
   "source": [
    "time_train = train_df.time\n",
    "signal_train_denoised = denoise_signal(train_df.signal)\n",
    "open_channels_train = train_df.open_channels\n",
    "\n",
    "data = {\n",
    "    'time': time_train,\n",
    "    'signal_denoised': signal_train_denoised,\n",
    "    'open_channels_train': open_channels_train\n",
    "       }\n",
    "\n",
    "train_data = pd.DataFrame(data=data).dropna()\n",
    "train_data"
   ]
  },
  {
   "cell_type": "markdown",
   "id": "42f06c24-5c37-46cf-9c3e-8bfc5e128248",
   "metadata": {},
   "source": [
    "scikit-learn"
   ]
  },
  {
   "cell_type": "code",
   "execution_count": 5,
   "id": "436de155-9c86-47f7-910b-c4a59b4317b6",
   "metadata": {},
   "outputs": [],
   "source": [
    "from sklearn.model_selection import train_test_split\n",
    "\n",
    "X = train_data.drop('open_channels_train',axis=1)\n",
    "y = train_data.open_channels_train.values.reshape(-1,1).ravel()\n",
    "\n",
    "X_train, X_test, y_train, y_test = train_test_split(X, y, test_size=0.2, random_state=42)"
   ]
  },
  {
   "cell_type": "markdown",
   "id": "9fe1e993-ab43-44d1-b71c-6ec3fe73caef",
   "metadata": {},
   "source": [
    "Descision Tree No HyperParameter Tuning"
   ]
  },
  {
   "cell_type": "code",
   "execution_count": 6,
   "id": "5ceee73e-aaca-4c9f-942a-bcc8990a49d7",
   "metadata": {},
   "outputs": [
    {
     "data": {
      "text/plain": [
       "0.650988"
      ]
     },
     "execution_count": 6,
     "metadata": {},
     "output_type": "execute_result"
    }
   ],
   "source": [
    "from sklearn.tree import DecisionTreeClassifier\n",
    "from sklearn.preprocessing import StandardScaler\n",
    "from sklearn.pipeline import Pipeline\n",
    "\n",
    "pipe = Pipeline([('scaler', StandardScaler()), ('clf', DecisionTreeClassifier())])\n",
    "pipe.fit(X_train, y_train)\n",
    "pipe.score(X_test,y_test)"
   ]
  },
  {
   "cell_type": "markdown",
   "id": "20ca9d67-97dd-4f21-8b3c-0f9c01c789f3",
   "metadata": {},
   "source": [
    "Descision Tree With HyperParameter Tuning"
   ]
  },
  {
   "cell_type": "code",
   "execution_count": 7,
   "id": "054e6c18-7e4e-4f20-baa9-6b69dc6bad77",
   "metadata": {},
   "outputs": [],
   "source": [
    "from sklearn.model_selection import GridSearchCV\n",
    "from sklearn.tree import DecisionTreeClassifier\n",
    "from sklearn.preprocessing import StandardScaler\n",
    "from sklearn.pipeline import Pipeline\n",
    "\n",
    "params = dict(\n",
    "    clf__criterion=['gini', 'entropy','log_loss'],\n",
    "    # clf__splitter=['best', \"random\"],\n",
    "    clf__max_depth=np.arange(1, 20, 1),\n",
    "    clf__min_samples_split=np.arange(1, 10, 1),\n",
    "    # clf__min_samples_leaf=np.arange(1, 10, 1)\n",
    ")\n",
    "\n",
    "\n",
    "pipe = Pipeline([('scaler', StandardScaler()), ('clf', DecisionTreeClassifier())])\n",
    "\n",
    "search = GridSearchCV(pipe, params, n_jobs=3)"
   ]
  },
  {
   "cell_type": "code",
   "execution_count": 8,
   "id": "d5d25e87-28ea-4963-a6ce-c82ce6ccb233",
   "metadata": {},
   "outputs": [
    {
     "name": "stderr",
     "output_type": "stream",
     "text": [
      "/Users/aymansulaiman/miniforge3/envs/tf/lib/python3.10/site-packages/sklearn/model_selection/_validation.py:378: FitFailedWarning: \n",
      "285 fits failed out of a total of 2565.\n",
      "The score on these train-test partitions for these parameters will be set to nan.\n",
      "If these failures are not expected, you can try to debug them by setting error_score='raise'.\n",
      "\n",
      "Below are more details about the failures:\n",
      "--------------------------------------------------------------------------------\n",
      "285 fits failed with the following error:\n",
      "Traceback (most recent call last):\n",
      "  File \"/Users/aymansulaiman/miniforge3/envs/tf/lib/python3.10/site-packages/sklearn/model_selection/_validation.py\", line 686, in _fit_and_score\n",
      "    estimator.fit(X_train, y_train, **fit_params)\n",
      "  File \"/Users/aymansulaiman/miniforge3/envs/tf/lib/python3.10/site-packages/sklearn/pipeline.py\", line 382, in fit\n",
      "    self._final_estimator.fit(Xt, y, **fit_params_last_step)\n",
      "  File \"/Users/aymansulaiman/miniforge3/envs/tf/lib/python3.10/site-packages/sklearn/tree/_classes.py\", line 969, in fit\n",
      "    super().fit(\n",
      "  File \"/Users/aymansulaiman/miniforge3/envs/tf/lib/python3.10/site-packages/sklearn/tree/_classes.py\", line 265, in fit\n",
      "    check_scalar(\n",
      "  File \"/Users/aymansulaiman/miniforge3/envs/tf/lib/python3.10/site-packages/sklearn/utils/validation.py\", line 1480, in check_scalar\n",
      "    raise ValueError(\n",
      "ValueError: min_samples_split == 1, must be >= 2.\n",
      "\n",
      "  warnings.warn(some_fits_failed_message, FitFailedWarning)\n",
      "/Users/aymansulaiman/miniforge3/envs/tf/lib/python3.10/site-packages/sklearn/model_selection/_search.py:953: UserWarning: One or more of the test scores are non-finite: [       nan 0.38298825 0.38298825 0.38298825 0.38298825 0.38298825\n",
      " 0.38298825 0.38298825 0.38298825        nan 0.42093575 0.42093575\n",
      " 0.42093575 0.42093575 0.42093575 0.42093575 0.42093575 0.42093575\n",
      "        nan 0.45431    0.45431    0.45431    0.45431    0.45431\n",
      " 0.45431    0.45431    0.45431           nan 0.45930125 0.45930125\n",
      " 0.45930125 0.45930125 0.45930125 0.45930125 0.45930125 0.45930125\n",
      "        nan 0.52639625 0.5263965  0.5263965  0.52639625 0.5263965\n",
      " 0.5263965  0.52639625 0.52639625        nan 0.59897525 0.59897525\n",
      " 0.59897525 0.59897525 0.59897525 0.59897525 0.59897525 0.59897525\n",
      "        nan 0.6182185  0.6182185  0.6182185  0.6182185  0.6182185\n",
      " 0.6182185  0.6182185  0.6182185         nan 0.6299885  0.629989\n",
      " 0.62998825 0.6299885  0.6299885  0.62998875 0.629989   0.629989\n",
      "        nan 0.6358655  0.635865   0.63586475 0.63586625 0.63586625\n",
      " 0.63586625 0.635865   0.63586475        nan 0.64120475 0.641206\n",
      " 0.641205   0.641206   0.6412055  0.6412055  0.64120475 0.641204\n",
      "        nan 0.647434   0.64743625 0.64743375 0.64743525 0.647433\n",
      " 0.647433   0.6474305  0.64743           nan 0.651312   0.65130725\n",
      " 0.651312   0.6513025  0.651304   0.6512985  0.65130175 0.65129975\n",
      "        nan 0.655527   0.655523   0.6555255  0.65552575 0.65552375\n",
      " 0.655513   0.65551075 0.65551025        nan 0.65988775 0.659883\n",
      " 0.65987575 0.6598745  0.659876   0.6598635  0.659857   0.65985225\n",
      "        nan 0.6621805  0.6621715  0.66216725 0.6621635  0.66215975\n",
      " 0.6621455  0.66213075 0.66212125        nan 0.665129   0.66511425\n",
      " 0.66510625 0.665102   0.66509675 0.6650545  0.66505    0.66504025\n",
      "        nan 0.66587175 0.6658625  0.66585925 0.6658225  0.6658235\n",
      " 0.66578225 0.66576625 0.665746          nan 0.66693475 0.66689175\n",
      " 0.666882   0.66684825 0.6668455  0.6668015  0.66678    0.666779\n",
      "        nan 0.666999   0.6669885  0.666946   0.66692925 0.66691025\n",
      " 0.66684575 0.66684425 0.66683925        nan 0.35190175 0.35190175\n",
      " 0.35190175 0.35190175 0.35190175 0.35190175 0.35190175 0.35190175\n",
      "        nan 0.417342   0.417342   0.417342   0.417342   0.417342\n",
      " 0.417342   0.417342   0.417342          nan 0.44414125 0.44414125\n",
      " 0.44414125 0.44414125 0.44414125 0.44414125 0.44414125 0.44414125\n",
      "        nan 0.5187155  0.5187155  0.5187155  0.5187155  0.5187155\n",
      " 0.5187155  0.5187155  0.5187155         nan 0.5909255  0.5909255\n",
      " 0.5909255  0.5909255  0.5909255  0.5909255  0.5909255  0.5909255\n",
      "        nan 0.6138015  0.6138015  0.6138015  0.6138015  0.6138015\n",
      " 0.6138015  0.6138015  0.6138015         nan 0.6284905  0.62849025\n",
      " 0.62849025 0.6284905  0.6284905  0.6284905  0.62849025 0.62849025\n",
      "        nan 0.63382975 0.63382975 0.63382975 0.63382975 0.63382975\n",
      " 0.63382975 0.63383    0.63383           nan 0.6412725  0.641273\n",
      " 0.641273   0.64127225 0.641272   0.64127275 0.641273   0.641273\n",
      "        nan 0.645276   0.645276   0.6452755  0.64527625 0.64527575\n",
      " 0.64527525 0.64527575 0.6452755         nan 0.65167675 0.65167825\n",
      " 0.6516755  0.65167625 0.65167675 0.651676   0.65167575 0.65167625\n",
      "        nan 0.65632175 0.656319   0.65631775 0.656321   0.65632125\n",
      " 0.65631525 0.656313   0.656315          nan 0.6594605  0.65945625\n",
      " 0.6594605  0.6594615  0.659458   0.659455   0.6594545  0.659452\n",
      "        nan 0.6623195  0.662307   0.66230175 0.66230875 0.66231725\n",
      " 0.66231575 0.66231525 0.66230225        nan 0.6635285  0.66352525\n",
      " 0.66351825 0.66351275 0.6635155  0.66350775 0.663509   0.663506\n",
      "        nan 0.66412975 0.664139   0.664103   0.66409875 0.66410975\n",
      " 0.664105   0.6641085  0.66410375        nan 0.664633   0.66460475\n",
      " 0.664583   0.66458425 0.664587   0.6645685  0.664574   0.66455825\n",
      "        nan 0.6641845  0.66415625 0.664114   0.6641015  0.6641185\n",
      " 0.66411275 0.66412275 0.66409825        nan 0.66381725 0.6637925\n",
      " 0.66377025 0.663763   0.66379225 0.66379125 0.66382475 0.663821\n",
      "        nan 0.35190175 0.35190175 0.35190175 0.35190175 0.35190175\n",
      " 0.35190175 0.35190175 0.35190175        nan 0.417342   0.417342\n",
      " 0.417342   0.417342   0.417342   0.417342   0.417342   0.417342\n",
      "        nan 0.44414125 0.44414125 0.44414125 0.44414125 0.44414125\n",
      " 0.44414125 0.44414125 0.44414125        nan 0.5187155  0.5187155\n",
      " 0.5187155  0.5187155  0.5187155  0.5187155  0.5187155  0.5187155\n",
      "        nan 0.5909255  0.5909255  0.5909255  0.5909255  0.5909255\n",
      " 0.5909255  0.5909255  0.5909255         nan 0.6138015  0.6138015\n",
      " 0.6138015  0.6138015  0.6138015  0.6138015  0.6138015  0.6138015\n",
      "        nan 0.6284905  0.62849025 0.6284905  0.6284905  0.6284905\n",
      " 0.62849025 0.62849025 0.6284905         nan 0.63382975 0.63382975\n",
      " 0.63382975 0.63382975 0.63382975 0.63382975 0.63383    0.63383\n",
      "        nan 0.64127275 0.641273   0.64127275 0.6412725  0.64127275\n",
      " 0.64127275 0.64127275 0.641273          nan 0.64527525 0.6452765\n",
      " 0.64527675 0.64527575 0.64527575 0.64527525 0.64527475 0.645276\n",
      "        nan 0.65167675 0.6516775  0.6516765  0.6516755  0.6516755\n",
      " 0.651675   0.65167525 0.651676          nan 0.6563165  0.65631625\n",
      " 0.6563185  0.65632025 0.6563155  0.65631475 0.65631975 0.656314\n",
      "        nan 0.6594635  0.6594595  0.659459   0.659462   0.65945875\n",
      " 0.6594595  0.659455   0.65945025        nan 0.66231275 0.662306\n",
      " 0.66230675 0.6623095  0.66231    0.66231575 0.66231025 0.66230525\n",
      "        nan 0.66353425 0.663531   0.66351275 0.66351125 0.66350425\n",
      " 0.663517   0.66350675 0.6635005         nan 0.66413125 0.664128\n",
      " 0.66411625 0.6641085  0.66410575 0.664103   0.6640995  0.66410325\n",
      "        nan 0.66462175 0.6645945  0.66458475 0.664572   0.664575\n",
      " 0.66456675 0.66457575 0.664563          nan 0.66416725 0.6641505\n",
      " 0.66410775 0.66409675 0.6641095  0.66410775 0.664114   0.66409025\n",
      "        nan 0.66382775 0.663777   0.663791   0.66373125 0.66379975\n",
      " 0.6637805  0.66382675 0.66380375]\n",
      "  warnings.warn(\n"
     ]
    },
    {
     "name": "stdout",
     "output_type": "stream",
     "text": [
      "CPU times: user 26 s, sys: 1.13 s, total: 27.2 s\n",
      "Wall time: 3h 9min 35s\n"
     ]
    },
    {
     "data": {
      "text/plain": [
       "0.668409"
      ]
     },
     "execution_count": 8,
     "metadata": {},
     "output_type": "execute_result"
    }
   ],
   "source": [
    "%%time\n",
    "search.fit(X_train, y_train)\n",
    "search.score(X_test, y_test)"
   ]
  },
  {
   "cell_type": "code",
   "execution_count": null,
   "id": "47fd4094-3c8d-4283-97e0-4cea8c1eff58",
   "metadata": {},
   "outputs": [],
   "source": []
  },
  {
   "cell_type": "markdown",
   "id": "78a3c045-de32-4e0b-9027-6df779fbfdb3",
   "metadata": {},
   "source": [
    "XGBoost"
   ]
  },
  {
   "cell_type": "code",
   "execution_count": 9,
   "id": "e3f4f38c-19ac-40e6-a849-3ef03e9f286f",
   "metadata": {},
   "outputs": [],
   "source": [
    "from sklearn.preprocessing import QuantileTransformer, StandardScaler, LabelEncoder\n",
    "from tensorflow.keras.utils import to_categorical\n",
    "X_scaler = StandardScaler().fit(X_train)\n",
    "X_train_scaled = X_scaler.transform(X_train)\n",
    "X_test_scaled = X_scaler.transform(X_test)\n",
    "\n",
    "label_encoder = LabelEncoder()\n",
    "label_encoder.fit(y_train)\n",
    "encoded_y_train = label_encoder.transform(y_train)\n",
    "encoded_y_test = label_encoder.transform(y_test)\n",
    "\n",
    "y_train_categorical = to_categorical(encoded_y_train)\n",
    "y_test_categorical = to_categorical(encoded_y_test)"
   ]
  },
  {
   "cell_type": "code",
   "execution_count": 10,
   "id": "b5871341-66b7-43d4-9023-9c186c1af7cc",
   "metadata": {},
   "outputs": [],
   "source": [
    "import xgboost as xgb"
   ]
  },
  {
   "cell_type": "code",
   "execution_count": 11,
   "id": "1a7b2807-a85d-4844-8b2a-735e44fd4ee1",
   "metadata": {},
   "outputs": [
    {
     "data": {
      "text/plain": [
       "0.521784"
      ]
     },
     "execution_count": 11,
     "metadata": {},
     "output_type": "execute_result"
    }
   ],
   "source": [
    "model = xgb.XGBClassifier()\n",
    "model.fit(X_train_scaled, y_train_categorical)\n",
    "model.score(X_test_scaled, y_test_categorical)"
   ]
  },
  {
   "cell_type": "markdown",
   "id": "31d7c71a-ea3e-4717-858e-6672db5d2e97",
   "metadata": {},
   "source": [
    "XGBoost HyperParameter Tuning"
   ]
  },
  {
   "cell_type": "code",
   "execution_count": 33,
   "id": "097711c9-6dc2-4e7e-a888-9454c1ca833c",
   "metadata": {},
   "outputs": [],
   "source": [
    "params = {\n",
    "    \"clf__objective\": [\"multi:softprob\"],\n",
    "    \"clf__num_class\": [11],\n",
    "    \"clf__learning_rate\" : [0.5],\n",
    "    \"clf__max_leaves\": [2**4],\n",
    "    \"clf__grow_policy\": [\"lossguide\"],\n",
    "    'clf__min_child_weight': [50],\n",
    "    'clf__lambda': [1],\n",
    "    'clf__eval_metric': ['mlogloss']\n",
    "}\n",
    "\n",
    "pipe = Pipeline([('scaler', StandardScaler()), ('clf', xgb.XGBClassifier())])\n",
    "search = GridSearchCV(pipe, params, n_jobs=3)"
   ]
  },
  {
   "cell_type": "code",
   "execution_count": 34,
   "id": "4dbcf9cd-2bc2-4be2-92e6-b4d492ab3bd6",
   "metadata": {},
   "outputs": [
    {
     "name": "stdout",
     "output_type": "stream",
     "text": [
      "CPU times: user 1h 1min 15s, sys: 14min 14s, total: 1h 15min 30s\n",
      "Wall time: 47min 5s\n"
     ]
    },
    {
     "data": {
      "text/plain": [
       "0.668436"
      ]
     },
     "execution_count": 34,
     "metadata": {},
     "output_type": "execute_result"
    }
   ],
   "source": [
    "%%time\n",
    "search.fit(X_train, y_train)\n",
    "search.score(X_test, y_test)"
   ]
  },
  {
   "cell_type": "code",
   "execution_count": 35,
   "id": "1cc8656f-fce3-4cff-adc0-3adb49f98972",
   "metadata": {},
   "outputs": [
    {
     "data": {
      "text/plain": [
       "{'clf__eval_metric': 'mlogloss',\n",
       " 'clf__grow_policy': 'lossguide',\n",
       " 'clf__lambda': 1,\n",
       " 'clf__learning_rate': 0.5,\n",
       " 'clf__max_leaves': 16,\n",
       " 'clf__min_child_weight': 50,\n",
       " 'clf__num_class': 11,\n",
       " 'clf__objective': 'multi:softprob'}"
      ]
     },
     "execution_count": 35,
     "metadata": {},
     "output_type": "execute_result"
    }
   ],
   "source": [
    "search.best_params_"
   ]
  },
  {
   "cell_type": "markdown",
   "id": "321281f1-6557-42ce-ad37-67721f06de86",
   "metadata": {},
   "source": [
    "Tensorflow"
   ]
  },
  {
   "cell_type": "markdown",
   "id": "4f420d92-277c-4a10-90e1-2018252f8372",
   "metadata": {},
   "source": [
    "Tensorflow with hyperparameter tuning"
   ]
  },
  {
   "cell_type": "markdown",
   "id": "77185cf5-3384-4354-9900-4648509f62fc",
   "metadata": {},
   "source": [
    "Tensorflow time series classification"
   ]
  },
  {
   "cell_type": "markdown",
   "id": "bd27681b-c4e5-469c-9b5d-5e82bd7e6436",
   "metadata": {},
   "source": [
    "Tensorflow ConV NN"
   ]
  },
  {
   "cell_type": "code",
   "execution_count": null,
   "id": "8c065603-a200-4118-8cac-a76106310d52",
   "metadata": {},
   "outputs": [],
   "source": []
  }
 ],
 "metadata": {
  "kernelspec": {
   "display_name": "Python 3 (ipykernel)",
   "language": "python",
   "name": "python3"
  },
  "language_info": {
   "codemirror_mode": {
    "name": "ipython",
    "version": 3
   },
   "file_extension": ".py",
   "mimetype": "text/x-python",
   "name": "python",
   "nbconvert_exporter": "python",
   "pygments_lexer": "ipython3",
   "version": "3.10.5"
  }
 },
 "nbformat": 4,
 "nbformat_minor": 5
}
