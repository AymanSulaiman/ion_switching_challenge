{
 "cells": [
  {
   "cell_type": "code",
   "execution_count": 1,
   "id": "8913a388",
   "metadata": {},
   "outputs": [
    {
     "name": "stderr",
     "output_type": "stream",
     "text": [
      "\n",
      "Bad key \"text.kerning_factor\" on line 4 in\n",
      "C:\\Users\\Ayman\\anaconda3\\lib\\site-packages\\matplotlib\\mpl-data\\stylelib\\_classic_test_patch.mplstyle.\n",
      "You probably need to get an updated matplotlibrc file from\n",
      "https://github.com/matplotlib/matplotlib/blob/v3.1.2/matplotlibrc.template\n",
      "or from the matplotlib source distribution\n"
     ]
    }
   ],
   "source": [
    "import pandas as pd\n",
    "import numpy as np\n",
    "import matplotlib.pyplot as plt\n",
    "from mpl_toolkits import mplot3d\n",
    "import os\n",
    "import seaborn as sns\n",
    "%matplotlib inline\n",
    "\n",
    "import pywt\n",
    "import scipy\n",
    "from scipy import signal\n",
    "from scipy.signal import butter, deconvolve\n",
    "\n",
    "\n",
    "\n",
    "import tensorflow as tf\n",
    "import datetime\n",
    "from sklearn.model_selection import train_test_split\n",
    "from sklearn.preprocessing import MinMaxScaler, LabelEncoder\n",
    "from tensorflow.keras.losses import sparse_categorical_crossentropy\n",
    "from tensorflow.keras.utils import to_categorical\n",
    "\n",
    "from tensorflow.keras.models import Sequential\n",
    "from tensorflow.keras.layers import Dense"
   ]
  },
  {
   "cell_type": "code",
   "execution_count": 2,
   "id": "6f1ef7d9",
   "metadata": {},
   "outputs": [],
   "source": [
    "test_path = os.path.join('data','test.csv')\n",
    "train_path = os.path.join('data','train.csv')\n",
    "\n",
    "test_df = pd.read_csv(test_path)\n",
    "train_df = pd.read_csv(train_path)"
   ]
  },
  {
   "cell_type": "code",
   "execution_count": 3,
   "id": "d646d385",
   "metadata": {},
   "outputs": [],
   "source": [
    "def maddest(d, axis=None):\n",
    "    return np.mean(np.absolute(d - np.mean(d, axis)), axis)\n",
    "\n",
    "def denoise_signal(x, wavelet='db4', level=1):\n",
    "    coeff = pywt.wavedec(x, wavelet, mode=\"per\")\n",
    "    sigma = (1/0.6745) * maddest(coeff[-level])\n",
    "\n",
    "    uthresh = sigma * np.sqrt(2*np.log(len(x)))\n",
    "    coeff[1:] = (pywt.threshold(i, value=uthresh, mode='hard') for i in coeff[1:])\n",
    "\n",
    "    return pywt.waverec(coeff, wavelet, mode='per')"
   ]
  },
  {
   "cell_type": "code",
   "execution_count": 4,
   "id": "63fd7188",
   "metadata": {},
   "outputs": [],
   "source": [
    "time_train = train_df.time\n",
    "signal_train_denoised = denoise_signal(train_df.signal)\n",
    "open_channels_train = train_df.open_channels\n",
    "\n",
    "data = {\n",
    "    'time': time_train,\n",
    "    'signal_denoised': signal_train_denoised,\n",
    "    'open_channels_train': open_channels_train\n",
    "       }\n",
    "\n",
    "train_data = pd.DataFrame(data=data)"
   ]
  },
  {
   "cell_type": "code",
   "execution_count": null,
   "id": "f85cf048",
   "metadata": {},
   "outputs": [],
   "source": []
  },
  {
   "cell_type": "code",
   "execution_count": 5,
   "id": "03aedc3c",
   "metadata": {},
   "outputs": [
    {
     "name": "stderr",
     "output_type": "stream",
     "text": [
      "C:\\Users\\Ayman\\AppData\\Roaming\\Python\\Python38\\site-packages\\sklearn\\utils\\validation.py:73: DataConversionWarning: A column-vector y was passed when a 1d array was expected. Please change the shape of y to (n_samples, ), for example using ravel().\n",
      "  return f(**kwargs)\n"
     ]
    }
   ],
   "source": [
    "from sklearn.model_selection import train_test_split\n",
    "\n",
    "X = train_data[['time','signal_denoised']]\n",
    "y = train_data.open_channels_train.values.reshape(-1,1)\n",
    "\n",
    "X_train, X_test, y_train, y_test = train_test_split(X, y, test_size=0.2, random_state=42)\n",
    "    \n",
    "X_scaler = MinMaxScaler().fit(X_train)\n",
    "X_train_scaled = X_scaler.transform(X_train)\n",
    "X_test_scaled = X_scaler.transform(X_test)\n",
    "\n",
    "label_encoder = LabelEncoder()\n",
    "label_encoder.fit(y_train)\n",
    "encoded_y_train = label_encoder.transform(y_train)\n",
    "encoded_y_test = label_encoder.transform(y_test)\n",
    "\n",
    "y_train_categorical = to_categorical(encoded_y_train)\n",
    "y_test_categorical = to_categorical(encoded_y_test)"
   ]
  },
  {
   "cell_type": "code",
   "execution_count": 6,
   "id": "e246ce03",
   "metadata": {},
   "outputs": [
    {
     "data": {
      "text/plain": [
       "(1000000, 2)"
      ]
     },
     "execution_count": 6,
     "metadata": {},
     "output_type": "execute_result"
    }
   ],
   "source": [
    "X_test_scaled.shape"
   ]
  },
  {
   "cell_type": "code",
   "execution_count": 7,
   "id": "a29cb208",
   "metadata": {},
   "outputs": [
    {
     "name": "stdout",
     "output_type": "stream",
     "text": [
      "Model: \"sequential\"\n",
      "_________________________________________________________________\n",
      "Layer (type)                 Output Shape              Param #   \n",
      "=================================================================\n",
      "dense (Dense)                (None, 100)               300       \n",
      "_________________________________________________________________\n",
      "dense_1 (Dense)              (None, 200)               20200     \n",
      "_________________________________________________________________\n",
      "dropout (Dropout)            (None, 200)               0         \n",
      "_________________________________________________________________\n",
      "dense_2 (Dense)              (None, 11)                2211      \n",
      "=================================================================\n",
      "Total params: 22,711\n",
      "Trainable params: 22,711\n",
      "Non-trainable params: 0\n",
      "_________________________________________________________________\n"
     ]
    }
   ],
   "source": [
    "import tensorflow as tf\n",
    "import datetime\n",
    "from sklearn.model_selection import train_test_split\n",
    "from sklearn.preprocessing import MinMaxScaler, LabelEncoder\n",
    "from tensorflow.keras.losses import sparse_categorical_crossentropy\n",
    "from tensorflow.keras.utils import to_categorical\n",
    "\n",
    "from tensorflow.keras.models import Sequential\n",
    "from tensorflow.keras.layers import Dense, Dropout\n",
    "\n",
    "\n",
    "\n",
    "def deep_learning_model(inputs=2, epochs=10, outputs=11, activation='relu'):\n",
    "    \n",
    "    model = Sequential()\n",
    "    model.add(Dense(units=100, activation=activation, input_dim=inputs))\n",
    "    model.add(Dense(units=200, activation=activation))\n",
    "    model.add(Dropout(.1))\n",
    "    model.add(Dense(units=outputs, activation='softmax'))\n",
    "    model.compile(optimizer='adam',\n",
    "                  loss='categorical_crossentropy',\n",
    "                  metrics=['accuracy',tf.keras.metrics.AUC()])\n",
    "\n",
    "\n",
    "#     print(model.summary())\n",
    "    \n",
    "#     model.fit(\n",
    "#         X_train_scaled,\n",
    "#         y_train_categorical,\n",
    "#         epochs=epochs,\n",
    "#         batch_size = 200,\n",
    "#         shuffle=True,\n",
    "#         verbose=2\n",
    "#     )\n",
    "    return model\n",
    "\n",
    "deep_learning_model(inputs=2, epochs=10, outputs=11, activation=tf.nn.leaky_relu).summary()"
   ]
  },
  {
   "cell_type": "code",
   "execution_count": 11,
   "id": "100a4af7",
   "metadata": {
    "tags": []
   },
   "outputs": [
    {
     "name": "stdout",
     "output_type": "stream",
     "text": [
      "Epoch 1/50\n",
      "20000/20000 [==============================] - 90s 4ms/step - loss: 1.0770 - accuracy: 0.5539 - auc_2: 0.9376\n",
      "Epoch 2/50\n",
      "20000/20000 [==============================] - 89s 4ms/step - loss: 0.8804 - accuracy: 0.6129 - auc_2: 0.9588\n",
      "Epoch 3/50\n",
      "20000/20000 [==============================] - 101s 5ms/step - loss: 0.8529 - accuracy: 0.6210 - auc_2: 0.9610\n",
      "Epoch 4/50\n",
      "20000/20000 [==============================] - 88s 4ms/step - loss: 0.8362 - accuracy: 0.6269 - auc_2: 0.9623\n",
      "Epoch 5/50\n",
      "20000/20000 [==============================] - 92s 5ms/step - loss: 0.8242 - accuracy: 0.6312 - auc_2: 0.9633\n",
      "Epoch 6/50\n",
      "20000/20000 [==============================] - 87s 4ms/step - loss: 0.8139 - accuracy: 0.6350 - auc_2: 0.9641\n",
      "Epoch 7/50\n",
      "20000/20000 [==============================] - 91s 5ms/step - loss: 0.8077 - accuracy: 0.6374 - auc_2: 0.9646\n",
      "Epoch 8/50\n",
      "20000/20000 [==============================] - 89s 4ms/step - loss: 0.8018 - accuracy: 0.6394 - auc_2: 0.9651\n",
      "Epoch 9/50\n",
      "20000/20000 [==============================] - 88s 4ms/step - loss: 0.7974 - accuracy: 0.6416 - auc_2: 0.9654\n",
      "Epoch 10/50\n",
      "20000/20000 [==============================] - 86s 4ms/step - loss: 0.7940 - accuracy: 0.6423 - auc_2: 0.9657\n",
      "Epoch 11/50\n",
      "20000/20000 [==============================] - 81s 4ms/step - loss: 0.7909 - accuracy: 0.6438 - auc_2: 0.9659\n",
      "Epoch 12/50\n",
      "20000/20000 [==============================] - 90s 4ms/step - loss: 0.7893 - accuracy: 0.6441 - auc_2: 0.9660\n",
      "Epoch 13/50\n",
      "20000/20000 [==============================] - 87s 4ms/step - loss: 0.7874 - accuracy: 0.6456 - auc_2: 0.9662\n",
      "Epoch 14/50\n",
      "20000/20000 [==============================] - 88s 4ms/step - loss: 0.7846 - accuracy: 0.6463 - auc_2: 0.9664\n",
      "Epoch 15/50\n",
      "20000/20000 [==============================] - 87s 4ms/step - loss: 0.7833 - accuracy: 0.6470 - auc_2: 0.9665\n",
      "Epoch 16/50\n",
      "20000/20000 [==============================] - 92s 5ms/step - loss: 0.7816 - accuracy: 0.6480 - auc_2: 0.9667 0s - loss: 0.7816 - accuracy: 0.6480 -\n",
      "Epoch 17/50\n",
      "20000/20000 [==============================] - 88s 4ms/step - loss: 0.7809 - accuracy: 0.6475 - auc_2: 0.9667\n",
      "Epoch 18/50\n",
      "20000/20000 [==============================] - 101s 5ms/step - loss: 0.7799 - accuracy: 0.6483 - auc_2: 0.9668\n",
      "Epoch 19/50\n",
      "20000/20000 [==============================] - 93s 5ms/step - loss: 0.7786 - accuracy: 0.6487 - auc_2: 0.9669\n",
      "Epoch 20/50\n",
      "20000/20000 [==============================] - 93s 5ms/step - loss: 0.7771 - accuracy: 0.6491 - auc_2: 0.9670\n",
      "Epoch 21/50\n",
      "20000/20000 [==============================] - 91s 5ms/step - loss: 0.7758 - accuracy: 0.6501 - auc_2: 0.9671\n",
      "Epoch 22/50\n",
      "20000/20000 [==============================] - 91s 5ms/step - loss: 0.7743 - accuracy: 0.6506 - auc_2: 0.9672\n",
      "Epoch 23/50\n",
      "20000/20000 [==============================] - 92s 5ms/step - loss: 0.7735 - accuracy: 0.6505 - auc_2: 0.9673\n",
      "Epoch 24/50\n",
      "20000/20000 [==============================] - 91s 5ms/step - loss: 0.7728 - accuracy: 0.6509 - auc_2: 0.9673\n",
      "Epoch 25/50\n",
      "20000/20000 [==============================] - 94s 5ms/step - loss: 0.7720 - accuracy: 0.6511 - auc_2: 0.9674\n",
      "Epoch 26/50\n",
      "20000/20000 [==============================] - 95s 5ms/step - loss: 0.7713 - accuracy: 0.6518 - auc_2: 0.9675\n",
      "Epoch 27/50\n",
      "20000/20000 [==============================] - 99s 5ms/step - loss: 0.7708 - accuracy: 0.6517 - auc_2: 0.9675\n",
      "Epoch 28/50\n",
      "20000/20000 [==============================] - 91s 5ms/step - loss: 0.7712 - accuracy: 0.6512 - auc_2: 0.9674\n",
      "Epoch 29/50\n",
      "20000/20000 [==============================] - 99s 5ms/step - loss: 0.7693 - accuracy: 0.6521 - auc_2: 0.9676\n",
      "Epoch 30/50\n",
      "20000/20000 [==============================] - 98s 5ms/step - loss: 0.7691 - accuracy: 0.6523 - auc_2: 0.9676 0s - loss: 0.7691 - accuracy: 0.6523 - auc_2: 0. - ETA: 0s - loss: 0.7691 - accuracy: 0.6523\n",
      "Epoch 31/50\n",
      "20000/20000 [==============================] - 95s 5ms/step - loss: 0.7686 - accuracy: 0.6529 - auc_2: 0.9676\n",
      "Epoch 32/50\n",
      "20000/20000 [==============================] - 94s 5ms/step - loss: 0.7675 - accuracy: 0.6531 - auc_2: 0.9678\n",
      "Epoch 33/50\n",
      "20000/20000 [==============================] - 105s 5ms/step - loss: 0.7667 - accuracy: 0.6538 - auc_2: 0.9678\n",
      "Epoch 34/50\n",
      "20000/20000 [==============================] - 102s 5ms/step - loss: 0.7670 - accuracy: 0.6536 - auc_2: 0.9678\n",
      "Epoch 35/50\n",
      "20000/20000 [==============================] - 94s 5ms/step - loss: 0.7661 - accuracy: 0.6537 - auc_2: 0.9679\n",
      "Epoch 36/50\n",
      "20000/20000 [==============================] - 86s 4ms/step - loss: 0.7653 - accuracy: 0.6539 - auc_2: 0.9679\n",
      "Epoch 37/50\n",
      "20000/20000 [==============================] - 85s 4ms/step - loss: 0.7650 - accuracy: 0.6541 - auc_2: 0.9680\n",
      "Epoch 38/50\n",
      "20000/20000 [==============================] - 93s 5ms/step - loss: 0.7648 - accuracy: 0.6544 - auc_2: 0.9680\n",
      "Epoch 39/50\n",
      "20000/20000 [==============================] - 85s 4ms/step - loss: 0.7649 - accuracy: 0.6543 - auc_2: 0.9680\n",
      "Epoch 40/50\n",
      "20000/20000 [==============================] - 84s 4ms/step - loss: 0.7643 - accuracy: 0.6542 - auc_2: 0.9680\n",
      "Epoch 41/50\n",
      "20000/20000 [==============================] - 84s 4ms/step - loss: 0.7635 - accuracy: 0.6546 - auc_2: 0.9681\n",
      "Epoch 42/50\n",
      "20000/20000 [==============================] - 84s 4ms/step - loss: 0.7640 - accuracy: 0.6548 - auc_2: 0.9681\n",
      "Epoch 43/50\n",
      "20000/20000 [==============================] - 84s 4ms/step - loss: 0.7635 - accuracy: 0.6545 - auc_2: 0.9681\n",
      "Epoch 44/50\n",
      "20000/20000 [==============================] - 85s 4ms/step - loss: 0.7630 - accuracy: 0.6550 - auc_2: 0.9681\n",
      "Epoch 45/50\n",
      "20000/20000 [==============================] - 85s 4ms/step - loss: 0.7623 - accuracy: 0.6549 - auc_2: 0.9682\n",
      "Epoch 46/50\n",
      "20000/20000 [==============================] - 82s 4ms/step - loss: 0.7623 - accuracy: 0.6553 - auc_2: 0.9682\n",
      "Epoch 47/50\n",
      "20000/20000 [==============================] - 81s 4ms/step - loss: 0.7621 - accuracy: 0.6550 - auc_2: 0.9682\n",
      "Epoch 48/50\n",
      "20000/20000 [==============================] - ETA: 0s - loss: 0.7615 - accuracy: 0.6553 - auc_2: 0.96 - 82s 4ms/step - loss: 0.7615 - accuracy: 0.6553 - auc_2: 0.9682\n",
      "Epoch 49/50\n",
      "20000/20000 [==============================] - 84s 4ms/step - loss: 0.7618 - accuracy: 0.6559 - auc_2: 0.9682\n",
      "Epoch 50/50\n",
      "20000/20000 [==============================] - 85s 4ms/step - loss: 0.7612 - accuracy: 0.6559 - auc_2: 0.9682\n"
     ]
    },
    {
     "data": {
      "text/plain": [
       "<tensorflow.python.keras.callbacks.History at 0x20a4eaaa520>"
      ]
     },
     "execution_count": 11,
     "metadata": {},
     "output_type": "execute_result"
    }
   ],
   "source": [
    "model = deep_learning_model(inputs=2,outputs=11, activation=tf.nn.leaky_relu).fit(\n",
    "        X_train_scaled,\n",
    "        y_train_categorical,\n",
    "        epochs=50,\n",
    "        batch_size = 200,\n",
    "        shuffle=True,\n",
    "        verbose=1\n",
    "    )\n",
    "model\n"
   ]
  },
  {
   "cell_type": "code",
   "execution_count": 12,
   "id": "75771ad1",
   "metadata": {},
   "outputs": [
    {
     "data": {
      "text/plain": [
       "<matplotlib.axes._subplots.AxesSubplot at 0x20a5c8a07f0>"
      ]
     },
     "execution_count": 12,
     "metadata": {},
     "output_type": "execute_result"
    },
    {
     "data": {
      "image/png": "[encoded data removed]",
      "text/plain": [
       "<Figure size 432x288 with 1 Axes>"
      ]
     },
     "metadata": {
      "needs_background": "light"
     },
     "output_type": "display_data"
    }
   ],
   "source": [
    "pd.DataFrame(model.history).plot()"
   ]
  }
 ],
 "metadata": {
  "kernelspec": {
   "display_name": "Python 3 (ipykernel)",
   "language": "python",
   "name": "python3"
  },
  "language_info": {
   "codemirror_mode": {
    "name": "ipython",
    "version": 3
   },
   "file_extension": ".py",
   "mimetype": "text/x-python",
   "name": "python",
   "nbconvert_exporter": "python",
   "pygments_lexer": "ipython3",
   "version": "3.10.5"
  }
 },
 "nbformat": 4,
 "nbformat_minor": 5
}
