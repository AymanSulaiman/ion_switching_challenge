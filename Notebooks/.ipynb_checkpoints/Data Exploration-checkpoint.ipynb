{
 "cells": [
  {
   "cell_type": "code",
   "execution_count": 1,
   "metadata": {},
   "outputs": [
    {
     "name": "stderr",
     "output_type": "stream",
     "text": [
      "\n",
      "Bad key \"text.kerning_factor\" on line 4 in\n",
      "C:\\Users\\Ayman\\anaconda3\\lib\\site-packages\\matplotlib\\mpl-data\\stylelib\\_classic_test_patch.mplstyle.\n",
      "You probably need to get an updated matplotlibrc file from\n",
      "https://github.com/matplotlib/matplotlib/blob/v3.1.2/matplotlibrc.template\n",
      "or from the matplotlib source distribution\n"
     ]
    }
   ],
   "source": [
    "import pandas as pd\n",
    "import numpy as np\n",
    "import matplotlib.pyplot as plt\n",
    "from mpl_toolkits import mplot3d\n",
    "import os\n",
    "import seaborn as sns\n",
    "%matplotlib inline\n",
    "\n",
    "import pywt\n",
    "import scipy\n",
    "from scipy import signal\n",
    "from scipy.signal import butter, deconvolve"
   ]
  },
  {
   "cell_type": "code",
   "execution_count": 2,
   "metadata": {},
   "outputs": [],
   "source": [
    "test_path = os.path.join('..','data','test.csv')\n",
    "train_path = os.path.join('..','data','train.csv')\n",
    "\n",
    "test_df = pd.read_csv(test_path)\n",
    "train_df = pd.read_csv(train_path)"
   ]
  },
  {
   "cell_type": "code",
   "execution_count": 3,
   "metadata": {},
   "outputs": [
    {
     "data": {
      "text/html": [
       "<div>\n",
       "<style scoped>\n",
       "    .dataframe tbody tr th:only-of-type {\n",
       "        vertical-align: middle;\n",
       "    }\n",
       "\n",
       "    .dataframe tbody tr th {\n",
       "        vertical-align: top;\n",
       "    }\n",
       "\n",
       "    .dataframe thead th {\n",
       "        text-align: right;\n",
       "    }\n",
       "</style>\n",
       "<table border=\"1\" class=\"dataframe\">\n",
       "  <thead>\n",
       "    <tr style=\"text-align: right;\">\n",
       "      <th></th>\n",
       "      <th>time</th>\n",
       "      <th>signal</th>\n",
       "      <th>open_channels</th>\n",
       "    </tr>\n",
       "  </thead>\n",
       "  <tbody>\n",
       "    <tr>\n",
       "      <th>0</th>\n",
       "      <td>0.0001</td>\n",
       "      <td>-2.7600</td>\n",
       "      <td>0</td>\n",
       "    </tr>\n",
       "    <tr>\n",
       "      <th>1</th>\n",
       "      <td>0.0002</td>\n",
       "      <td>-2.8557</td>\n",
       "      <td>0</td>\n",
       "    </tr>\n",
       "    <tr>\n",
       "      <th>2</th>\n",
       "      <td>0.0003</td>\n",
       "      <td>-2.4074</td>\n",
       "      <td>0</td>\n",
       "    </tr>\n",
       "    <tr>\n",
       "      <th>3</th>\n",
       "      <td>0.0004</td>\n",
       "      <td>-3.1404</td>\n",
       "      <td>0</td>\n",
       "    </tr>\n",
       "    <tr>\n",
       "      <th>4</th>\n",
       "      <td>0.0005</td>\n",
       "      <td>-3.1525</td>\n",
       "      <td>0</td>\n",
       "    </tr>\n",
       "  </tbody>\n",
       "</table>\n",
       "</div>"
      ],
      "text/plain": [
       "     time  signal  open_channels\n",
       "0  0.0001 -2.7600              0\n",
       "1  0.0002 -2.8557              0\n",
       "2  0.0003 -2.4074              0\n",
       "3  0.0004 -3.1404              0\n",
       "4  0.0005 -3.1525              0"
      ]
     },
     "execution_count": 3,
     "metadata": {},
     "output_type": "execute_result"
    }
   ],
   "source": [
    "train_df.head()"
   ]
  },
  {
   "cell_type": "code",
   "execution_count": 4,
   "metadata": {},
   "outputs": [
    {
     "data": {
      "text/html": [
       "<div>\n",
       "<style scoped>\n",
       "    .dataframe tbody tr th:only-of-type {\n",
       "        vertical-align: middle;\n",
       "    }\n",
       "\n",
       "    .dataframe tbody tr th {\n",
       "        vertical-align: top;\n",
       "    }\n",
       "\n",
       "    .dataframe thead th {\n",
       "        text-align: right;\n",
       "    }\n",
       "</style>\n",
       "<table border=\"1\" class=\"dataframe\">\n",
       "  <thead>\n",
       "    <tr style=\"text-align: right;\">\n",
       "      <th></th>\n",
       "      <th>time</th>\n",
       "      <th>signal</th>\n",
       "    </tr>\n",
       "  </thead>\n",
       "  <tbody>\n",
       "    <tr>\n",
       "      <th>0</th>\n",
       "      <td>500.0001</td>\n",
       "      <td>-2.6498</td>\n",
       "    </tr>\n",
       "    <tr>\n",
       "      <th>1</th>\n",
       "      <td>500.0002</td>\n",
       "      <td>-2.8494</td>\n",
       "    </tr>\n",
       "    <tr>\n",
       "      <th>2</th>\n",
       "      <td>500.0003</td>\n",
       "      <td>-2.8600</td>\n",
       "    </tr>\n",
       "    <tr>\n",
       "      <th>3</th>\n",
       "      <td>500.0004</td>\n",
       "      <td>-2.4350</td>\n",
       "    </tr>\n",
       "    <tr>\n",
       "      <th>4</th>\n",
       "      <td>500.0005</td>\n",
       "      <td>-2.6155</td>\n",
       "    </tr>\n",
       "  </tbody>\n",
       "</table>\n",
       "</div>"
      ],
      "text/plain": [
       "       time  signal\n",
       "0  500.0001 -2.6498\n",
       "1  500.0002 -2.8494\n",
       "2  500.0003 -2.8600\n",
       "3  500.0004 -2.4350\n",
       "4  500.0005 -2.6155"
      ]
     },
     "execution_count": 4,
     "metadata": {},
     "output_type": "execute_result"
    }
   ],
   "source": [
    "test_df.head()"
   ]
  },
  {
   "cell_type": "markdown",
   "metadata": {},
   "source": [
    "Visualising the training dataset to see if we need to remove any anaomalies"
   ]
  },
  {
   "cell_type": "code",
   "execution_count": null,
   "metadata": {},
   "outputs": [],
   "source": [
    "fig0, ax0 = plt.subplots(figsize=(15,7))\n",
    "\n",
    "time_train = (train_df.time)/100 # this is for readability\n",
    "signal_train = train_df.signal\n",
    "open_channels_train = train_df.open_channels\n",
    "\n",
    "ax0.scatter(time_train, signal_train, color='none', edgecolor='blue', marker='o');\n",
    "ax0.set(xlabel='time (s)', ylabel='signal (pA)',\n",
    "        title='Signal(pA) over time(s)')"
   ]
  },
  {
   "cell_type": "markdown",
   "metadata": {},
   "source": [
    "The first graph clearly shows that between 0 and 1.5 seconds show a signal range of -2.5 to 0 pA.  There could either be anomolies or the initiation of ion channels of up to 5 pA.  The signals start to show a consistant positive signal after 1.5 seconds, however, it shows a range of ~ -5 to 13 pA. After 3 seconds, there are almost 'leapfrongs' in the intensity of signals ranging from ~ -5 to 13 pA as said before."
   ]
  },
  {
   "cell_type": "code",
   "execution_count": null,
   "metadata": {},
   "outputs": [],
   "source": [
    "fig1, ax1 = plt.subplots(figsize=(15,7))\n",
    "\n",
    "ax1.scatter(open_channels_train, signal_train, color='none', edgecolor='orange')\n",
    "ax1.set(xlabel='Number of open Channels', ylabel='signal (pA)',\n",
    "        title='Signal and Number of Open Channels')"
   ]
  },
  {
   "cell_type": "markdown",
   "metadata": {},
   "source": [
    "From judging the graph above, there is a clear and distinct correlation with signal levels and the number orf open channels.  There appears to be a large range of signals when the number of channels is lower, when the number of channels get closer to 10, the range becomes smaller and more defined."
   ]
  },
  {
   "cell_type": "code",
   "execution_count": null,
   "metadata": {},
   "outputs": [],
   "source": [
    "fig2, ax2 = plt.subplots(figsize=(15,7))\n",
    "ax2.scatter(time_train, open_channels_train, color='none', edgecolor='green')\n",
    "ax2.set(xlabel='Time', ylabel='Number of Open Channels')"
   ]
  },
  {
   "cell_type": "code",
   "execution_count": null,
   "metadata": {},
   "outputs": [],
   "source": [
    "fig3 = plt.figure(figsize=(10,10))\n",
    "ax3 = plt.axes(projection=\"3d\")\n",
    "\n",
    "time_train = (train_df.time)/100 # this is for readability\n",
    "signal_train = train_df.signal\n",
    "open_channels_train = train_df.open_channels\n",
    "\n",
    "x = time_train\n",
    "y = signal_train\n",
    "z = open_channels_train\n",
    "\n",
    "ax3.scatter(x, y, z)\n",
    "ax3.set(xlabel='time (s)', ylabel='signal (pA)', zlabel='open channels')"
   ]
  },
  {
   "cell_type": "markdown",
   "metadata": {},
   "source": [
    "This does not help"
   ]
  },
  {
   "cell_type": "code",
   "execution_count": null,
   "metadata": {},
   "outputs": [],
   "source": [
    "train_df.head()"
   ]
  },
  {
   "cell_type": "code",
   "execution_count": null,
   "metadata": {},
   "outputs": [],
   "source": [
    "x_1 = train_df.time[0:100]\n",
    "y_1 = train_df.signal[0:100]\n",
    "\n",
    "x_2 = train_df.time[100:200]\n",
    "y_2 = train_df.signal[100:200]\n",
    "\n",
    "x_3 = train_df.time[200:300]\n",
    "y_3 = train_df.signal[200:300]\n",
    "\n",
    "fig, axs = plt.subplots(nrows=3, ncols=1, figsize=(10,10))\n",
    "(ax1, ax2, ax3) = axs\n",
    "\n",
    "ax1.plot(x_1, y_1, '-o')\n",
    "ax2.plot(x_2, y_2, '-o')\n",
    "ax3.plot(x_3, y_3, '-o')\n"
   ]
  },
  {
   "cell_type": "markdown",
   "metadata": {},
   "source": [
    "Having a closer look at the data, there is a lot of noise so we need to remove the noise with wavelet denoising"
   ]
  },
  {
   "cell_type": "code",
   "execution_count": null,
   "metadata": {},
   "outputs": [],
   "source": [
    "def maddest(d, axis=None):\n",
    "    return np.mean(np.absolute(d - np.mean(d, axis)), axis)\n",
    "\n",
    "def denoise_signal(x, wavelet='db4', level=1):\n",
    "    coeff = pywt.wavedec(x, wavelet, mode=\"per\")\n",
    "    sigma = (1/0.6745) * maddest(coeff[-level])\n",
    "\n",
    "    uthresh = sigma * np.sqrt(2*np.log(len(x)))\n",
    "    coeff[1:] = (pywt.threshold(i, value=uthresh, mode='hard') for i in coeff[1:])\n",
    "\n",
    "    return pywt.waverec(coeff, wavelet, mode='per')\n"
   ]
  },
  {
   "cell_type": "code",
   "execution_count": null,
   "metadata": {},
   "outputs": [],
   "source": [
    "x_1 = train_df.time[0:100]\n",
    "x_2 = train_df.time[100:200]\n",
    "x_3 = train_df.time[200:300]\n",
    "\n",
    "y_1 = train_df.signal[0:100]\n",
    "y_2 = train_df.signal[100:200]\n",
    "y_3 = train_df.signal[200:300]\n",
    "\n",
    "y_1_transformed = denoise_signal(train_df.signal[0:100])\n",
    "\n",
    "y_2_transformed = denoise_signal(train_df.signal[100:200])\n",
    "\n",
    "y_3_transformed = denoise_signal(train_df.signal[200:300])\n",
    "\n",
    "fig, axs = plt.subplots(nrows=3, ncols=1, figsize=(10,10))\n",
    "(ax1, ax2, ax3) = axs\n",
    "\n",
    "ax1.plot(x_1, y_1_transformed, '-o')\n",
    "ax2.plot(x_2, y_2_transformed, '-o')\n",
    "ax3.plot(x_3, y_3_transformed, '-o')\n",
    "\n",
    "ax1.plot(x_1, y_1, color='orange')\n",
    "ax2.plot(x_2, y_2, color='orange')\n",
    "ax3.plot(x_3, y_3, color='orange')\n"
   ]
  },
  {
   "cell_type": "code",
   "execution_count": null,
   "metadata": {},
   "outputs": [],
   "source": [
    "fig0, ax0 = plt.subplots(figsize=(15,7))\n",
    "\n",
    "time_train = (train_df.time)/100 # this is for readability\n",
    "signal_train = train_df.signal\n",
    "signal_train_denoised = denoise_signal(train_df.signal)\n",
    "\n",
    "open_channels_train = train_df.open_channels\n",
    "\n",
    "# ax0.plot(time_train, signal_train,'-o');\n",
    "# ax0.plot(time_train, signal_train_denoised,'-o');\n",
    "ax0.plot(time_train, open_channels_train)\n",
    "\n",
    "ax0.set(xlabel='time (s)', ylabel='signal (pA)',\n",
    "        title='Signal(pA) over time(s)')"
   ]
  },
  {
   "cell_type": "code",
   "execution_count": null,
   "metadata": {},
   "outputs": [],
   "source": [
    "fig2, ax2 = plt.subplots(figsize=(15,7))\n",
    "ax2.bar(x=list(range(11)), height=open_channels_train.value_counts(sort=False).values)\n",
    "ax2.set(xlabel='Number of open channels', ylabel='number recorded',\n",
    "        title='count of open channels recorded');"
   ]
  },
  {
   "cell_type": "code",
   "execution_count": null,
   "metadata": {},
   "outputs": [],
   "source": [
    "open_channel_0 = train_df.loc[train_df['open_channels']==0]\n",
    "open_channel_1 = train_df.loc[train_df['open_channels']==1]\n",
    "open_channel_2 = train_df.loc[train_df['open_channels']==2]\n",
    "open_channel_3 = train_df.loc[train_df['open_channels']==3]\n",
    "open_channel_4 = train_df.loc[train_df['open_channels']==4]\n",
    "open_channel_5 = train_df.loc[train_df['open_channels']==5]\n",
    "open_channel_6 = train_df.loc[train_df['open_channels']==6]\n",
    "open_channel_7 = train_df.loc[train_df['open_channels']==7]\n",
    "open_channel_8 = train_df.loc[train_df['open_channels']==8]\n",
    "open_channel_9 = train_df.loc[train_df['open_channels']==9]\n",
    "open_channel_10 = train_df.loc[train_df['open_channels']==10]"
   ]
  },
  {
   "cell_type": "code",
   "execution_count": null,
   "metadata": {},
   "outputs": [],
   "source": [
    "open_channel_avg_signal_list = [np.mean(denoise_signal(globals()[f'open_channel_{i}'].signal)) for i in range(11)]\n",
    "open_channel_avg_signal_list"
   ]
  },
  {
   "cell_type": "code",
   "execution_count": null,
   "metadata": {},
   "outputs": [],
   "source": [
    "fig0, ax0 = plt.subplots(figsize=(18,7))\n",
    "ax0.plot(list(range(11)),open_channel_avg_signal_list,'-o')\n",
    "ax0.grid()\n",
    "ax0.set(xlabel='Number of Open CHannels', ylabel='Average Denoised Signal (pA)',\n",
    "        title='Number of Open CHannels and Average Denoised Signal (pA)');"
   ]
  },
  {
   "cell_type": "code",
   "execution_count": null,
   "metadata": {},
   "outputs": [],
   "source": [
    "fig0, ax0 = plt.subplots(figsize=(18,7))\n",
    "\n",
    "time_train = train_df.time # this is for readability\n",
    "signal_train = train_df.signal\n",
    "signal_train_denoised = denoise_signal(train_df.signal)\n",
    "\n",
    "open_channels_train = train_df.open_channels\n",
    "ax0.plot(time_train, signal_train_denoised);\n",
    "ax0.set(xlabel='time (ms)', ylabel='signal (pA)',\n",
    "        title='Signal(pA) over time(s)');"
   ]
  },
  {
   "cell_type": "code",
   "execution_count": null,
   "metadata": {},
   "outputs": [],
   "source": [
    "fig3 = plt.figure(figsize=(10,10))\n",
    "ax3 = plt.axes(projection=\"3d\")\n",
    "\n",
    "time_train = (train_df.time)/100 # this is for readability\n",
    "signal_train = train_df.signal\n",
    "open_channels_train = train_df.open_channels\n",
    "\n",
    "x = time_train\n",
    "y = denoise_signal(train_df.signal)\n",
    "z = open_channels_train\n",
    "\n",
    "ax3.scatter(x, y, z)\n",
    "ax3.set(xlabel='time (s)', ylabel='signal (pA)', zlabel='open channels')"
   ]
  },
  {
   "cell_type": "code",
   "execution_count": null,
   "metadata": {},
   "outputs": [],
   "source": [
    "signal_train_denoised = denoise_signal(train_df.signal)\n",
    "open_channels_train = train_df.open_channels\n",
    "\n",
    "fig, ax = plt.subplots(figsize=(15,7))\n",
    "ax.scatter(signal_train_denoised, open_channels_train)"
   ]
  },
  {
   "cell_type": "code",
   "execution_count": null,
   "metadata": {},
   "outputs": [],
   "source": [
    "# fig0, ax0 = plt.subplots(figsize=(18,7))\n",
    "\n",
    "# time_train = (train_df.time)/100 # this is for readability\n",
    "# signal_train = train_df.signal\n",
    "# signal_train_denoised = denoise_signal(train_df.signal)\n",
    "\n",
    "# open_channels_train = train_df.open_channels\n",
    "# ax0.bar(x=open_channels_train, height=signal_train_denoised);\n",
    "# ax0.set(xlabel='time (s)', ylabel='signal (pA)',\n",
    "#         title='Signal(pA) over time(s)');"
   ]
  },
  {
   "cell_type": "markdown",
   "metadata": {},
   "source": [
    "Going to do some quick sklearn stuff, need to prepare the data for such stuff"
   ]
  },
  {
   "cell_type": "code",
   "execution_count": null,
   "metadata": {},
   "outputs": [],
   "source": [
    "time_train = train_df.time\n",
    "signal_train_denoised = denoise_signal(train_df.signal)\n",
    "open_channels_train = train_df.open_channels\n",
    "\n",
    "data = {\n",
    "    'time': time_train,\n",
    "    'signal_denoised': signal_train_denoised,\n",
    "    'open_channels_train': open_channels_train\n",
    "       }\n",
    "\n",
    "train_data = pd.DataFrame(data=data)"
   ]
  },
  {
   "cell_type": "code",
   "execution_count": null,
   "metadata": {},
   "outputs": [],
   "source": [
    "train_data.tail()"
   ]
  },
  {
   "cell_type": "markdown",
   "metadata": {},
   "source": [
    "Linear model - Linear Regression"
   ]
  },
  {
   "cell_type": "code",
   "execution_count": null,
   "metadata": {},
   "outputs": [],
   "source": [
    "from sklearn.model_selection import train_test_split\n",
    "\n",
    "X = train_data[['time','signal_denoised']]\n",
    "y = train_data.open_channels_train.values.reshape(-1,1)\n",
    "\n",
    "X_train, X_test, y_train, y_test = train_test_split(X, y, test_size=0.2, random_state=42)"
   ]
  },
  {
   "cell_type": "code",
   "execution_count": null,
   "metadata": {},
   "outputs": [],
   "source": [
    "from sklearn.linear_model import LinearRegression\n",
    "X_train, X_test, y_train, y_test = train_test_split(X, y, test_size=0.2, random_state=42)\n",
    "model = LinearRegression(n_jobs=-1)\n",
    "model.fit(X_train,y_train)\n",
    "model.score(X_train,y_train)\n",
    "predict = model.predict(X_test)\n",
    "\n",
    "print(f'''\n",
    "Prediction: \\n{predict[:10]}\n",
    "\n",
    "\n",
    "Actual: \\n{y_test[:10]}\n",
    "\n",
    "train_score: \\n{model.score(X_train,y_train)}\n",
    "\n",
    "test score: \\n{model.score(X_test,y_test)}\n",
    "''')"
   ]
  },
  {
   "cell_type": "markdown",
   "metadata": {},
   "source": [
    "Deep Learning model testing"
   ]
  },
  {
   "cell_type": "code",
   "execution_count": null,
   "metadata": {},
   "outputs": [],
   "source": [
    "from sklearn.preprocessing import LabelEncoder, MinMaxScaler\n",
    "from tensorflow.keras.utils import to_categorical"
   ]
  },
  {
   "cell_type": "code",
   "execution_count": null,
   "metadata": {},
   "outputs": [],
   "source": [
    "from sklearn.model_selection import train_test_split\n",
    "from tensorflow.keras.losses import sparse_categorical_crossentropy\n",
    "X = train_data[['time','signal_denoised']]\n",
    "y = train_data.open_channels_train.values.reshape(-1,1)\n",
    "\n",
    "X_train, X_test, y_train, y_test = train_test_split(X, y, test_size=0.2, random_state=42)\n",
    "\n",
    "X_scaler = MinMaxScaler().fit(X_train)\n",
    "X_train_scaled = X_scaler.transform(X_train)\n",
    "X_test_scaled = X_scaler.transform(X_test)\n",
    "\n",
    "label_encoder = LabelEncoder()\n",
    "label_encoder.fit(y_train)\n",
    "encoded_y_train = label_encoder.transform(y_train)\n",
    "encoded_y_test = label_encoder.transform(y_test)\n",
    "\n",
    "y_train_categorical = to_categorical(encoded_y_train)\n",
    "y_test_categorical = to_categorical(encoded_y_test)"
   ]
  },
  {
   "cell_type": "code",
   "execution_count": null,
   "metadata": {},
   "outputs": [],
   "source": [
    "y_train_categorical"
   ]
  },
  {
   "cell_type": "code",
   "execution_count": null,
   "metadata": {},
   "outputs": [],
   "source": [
    "from tensorflow.keras.models import Sequential\n",
    "from tensorflow.keras.layers import Dense\n",
    "model = Sequential()\n",
    "model.add(Dense(units=100, activation='relu', input_dim=2))\n",
    "model.add(Dense(units=100, activation='relu'))\n",
    "model.add(Dense(units=11, activation='softmax'))\n",
    "model.compile(optimizer='adam',\n",
    "              loss='categorical_crossentropy',\n",
    "              metrics=['accuracy'])\n",
    "model.summary()"
   ]
  },
  {
   "cell_type": "code",
   "execution_count": null,
   "metadata": {},
   "outputs": [],
   "source": [
    "print(X_train_scaled)\n",
    "print('------------------')\n",
    "print(y_train)"
   ]
  },
  {
   "cell_type": "code",
   "execution_count": null,
   "metadata": {},
   "outputs": [],
   "source": [
    "# model.fit(\n",
    "#     X_train_scaled,\n",
    "#     y_train_categorical,\n",
    "#     epochs=1,\n",
    "#     shuffle=True,\n",
    "#     verbose=2\n",
    "# )"
   ]
  },
  {
   "cell_type": "code",
   "execution_count": null,
   "metadata": {},
   "outputs": [],
   "source": [
    "# model_loss, model_accuracy = model.evaluate(\n",
    "#     X_test_scaled, y_test_categorical, verbose=2)\n",
    "# print(\n",
    "#     f\"Normal Neural Network - Loss: {model_loss}, Accuracy: {model_accuracy}\")"
   ]
  },
  {
   "cell_type": "code",
   "execution_count": null,
   "metadata": {},
   "outputs": [],
   "source": [
    "# encoded_predictions = model.predict_classes(X_test_scaled[:100])\n",
    "# prediction_labels = label_encoder.inverse_transform(encoded_predictions)\n",
    "\n",
    "# from pprint import pprint\n",
    "\n",
    "# pprint(f\"Predicted classes: {list([i for i in prediction_labels])}\")\n",
    "# pprint(f\"Actual Labels: {[i[0] for i in y_test[:100]]}\")"
   ]
  },
  {
   "cell_type": "code",
   "execution_count": null,
   "metadata": {},
   "outputs": [],
   "source": [
    "def deep_learning_model(X, y, inputs=2, epochs=10, outputs=11):\n",
    "    import tensorflow as tf\n",
    "    import datetime\n",
    "    from sklearn.model_selection import train_test_split\n",
    "    from sklearn.preprocessing import MinMaxScaler, LabelEncoder\n",
    "    from tensorflow.keras.losses import sparse_categorical_crossentropy\n",
    "    from tensorflow.keras.utils import to_categorical\n",
    "\n",
    "    X_train, X_test, y_train, y_test = train_test_split(X, y, test_size=0.2, random_state=42)\n",
    "    \n",
    "    X_scaler = MinMaxScaler().fit(X_train)\n",
    "    X_train_scaled = X_scaler.transform(X_train)\n",
    "    X_test_scaled = X_scaler.transform(X_test)\n",
    "\n",
    "    label_encoder = LabelEncoder()\n",
    "    label_encoder.fit(y_train)\n",
    "    encoded_y_train = label_encoder.transform(y_train)\n",
    "    encoded_y_test = label_encoder.transform(y_test)\n",
    "\n",
    "    y_train_categorical = to_categorical(encoded_y_train)\n",
    "    y_test_categorical = to_categorical(encoded_y_test)\n",
    "    \n",
    "    from tensorflow.keras.models import Sequential\n",
    "    from tensorflow.keras.layers import Dense\n",
    "    \n",
    "    model = Sequential()\n",
    "    model.add(Dense(units=100, activation='relu', input_dim=inputs))\n",
    "    model.add(Dense(units=200, activation='relu'))\n",
    "    model.add(Dense(units=300, activation='relu'))\n",
    "    model.add(Dense(units=400, activation='relu'))\n",
    "    model.add(Dense(units=500, activation='relu'))\n",
    "    model.add(Dense(units=600, activation='relu'))\n",
    "    model.add(Dense(units=outputs, activation='softmax'))\n",
    "    model.compile(optimizer='adam',\n",
    "                  loss='categorical_crossentropy',\n",
    "                  metrics=['accuracy'])\n",
    "    print(model.summary())\n",
    "    \n",
    "    model.fit(\n",
    "        X_train_scaled,\n",
    "        y_train_categorical,\n",
    "        epochs=epochs,\n",
    "        shuffle=True,\n",
    "        verbose=1\n",
    "    )\n",
    "    \n",
    "    \n",
    "    print('\\n----------------------------------------------------------------\\n')\n",
    "    \n",
    "    model_loss, model_accuracy = model.evaluate(\n",
    "    X_test_scaled, y_test_categorical, verbose=2)\n",
    "    print(f\"Normal Neural Network - Loss: {model_loss}, Accuracy: {model_accuracy}\")\n",
    "    \n",
    "    encoded_predictions = model.predict_classes(X_test_scaled[:100])\n",
    "    prediction_labels = label_encoder.inverse_transform(encoded_predictions)\n",
    "\n",
    "    return print(f'''\n",
    "    Predicted classes: {list([i for i in prediction_labels])}\n",
    "    Actual Labels: {[i[0] for i in y_test[:100]]}\n",
    "    ''')"
   ]
  },
  {
   "cell_type": "code",
   "execution_count": null,
   "metadata": {},
   "outputs": [],
   "source": [
    "X = train_data[['time','signal_denoised']]\n",
    "y = train_data.open_channels_train.values.reshape(-1,1)\n",
    "q = deep_learning_model(X=X,y=y ,inputs=2,epochs = 10)\n",
    "q"
   ]
  }
 ],
 "metadata": {
  "kernelspec": {
   "display_name": "Python 3",
   "language": "python",
   "name": "python3"
  },
  "language_info": {
   "codemirror_mode": {
    "name": "ipython",
    "version": 3
   },
   "file_extension": ".py",
   "mimetype": "text/x-python",
   "name": "python",
   "nbconvert_exporter": "python",
   "pygments_lexer": "ipython3",
   "version": "3.8.8"
  }
 },
 "nbformat": 4,
 "nbformat_minor": 4
}
