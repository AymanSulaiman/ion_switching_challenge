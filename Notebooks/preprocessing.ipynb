{
 "cells": [
  {
   "cell_type": "code",
   "execution_count": 1,
   "id": "29e6d2fd",
   "metadata": {},
   "outputs": [
    {
     "name": "stderr",
     "output_type": "stream",
     "text": [
      "\n",
      "Bad key \"text.kerning_factor\" on line 4 in\n",
      "C:\\Users\\Ayman\\anaconda3\\lib\\site-packages\\matplotlib\\mpl-data\\stylelib\\_classic_test_patch.mplstyle.\n",
      "You probably need to get an updated matplotlibrc file from\n",
      "https://github.com/matplotlib/matplotlib/blob/v3.1.2/matplotlibrc.template\n",
      "or from the matplotlib source distribution\n"
     ]
    }
   ],
   "source": [
    "import pandas as pd\n",
    "import numpy as np\n",
    "import matplotlib.pyplot as plt\n",
    "from mpl_toolkits import mplot3d\n",
    "import os\n",
    "import seaborn as sns\n",
    "%matplotlib inline\n",
    "\n",
    "import pywt\n",
    "import scipy\n",
    "from scipy import signal\n",
    "from scipy.signal import butter, deconvolve"
   ]
  },
  {
   "cell_type": "code",
   "execution_count": 2,
   "id": "b518870a",
   "metadata": {},
   "outputs": [],
   "source": [
    "test_path = os.path.join('..','data','test.csv')\n",
    "train_path = os.path.join('..','data','train.csv')\n",
    "\n",
    "test_df = pd.read_csv(test_path)\n",
    "train_df = pd.read_csv(train_path)"
   ]
  },
  {
   "cell_type": "code",
   "execution_count": 3,
   "id": "3580de77",
   "metadata": {},
   "outputs": [],
   "source": [
    "def maddest(d, axis=None):\n",
    "    return np.mean(np.absolute(d - np.mean(d, axis)), axis)\n",
    "\n",
    "def denoise_signal(x, wavelet='db4', level=1):\n",
    "    coeff = pywt.wavedec(x, wavelet, mode=\"per\")\n",
    "    sigma = (1/0.6745) * maddest(coeff[-level])\n",
    "\n",
    "    uthresh = sigma * np.sqrt(2*np.log(len(x)))\n",
    "    coeff[1:] = (pywt.threshold(i, value=uthresh, mode='hard') for i in coeff[1:])\n",
    "\n",
    "    return pywt.waverec(coeff, wavelet, mode='per')"
   ]
  },
  {
   "cell_type": "code",
   "execution_count": 4,
   "id": "a588aa0e",
   "metadata": {},
   "outputs": [
    {
     "data": {
      "text/html": [
       "<div>\n",
       "<style scoped>\n",
       "    .dataframe tbody tr th:only-of-type {\n",
       "        vertical-align: middle;\n",
       "    }\n",
       "\n",
       "    .dataframe tbody tr th {\n",
       "        vertical-align: top;\n",
       "    }\n",
       "\n",
       "    .dataframe thead th {\n",
       "        text-align: right;\n",
       "    }\n",
       "</style>\n",
       "<table border=\"1\" class=\"dataframe\">\n",
       "  <thead>\n",
       "    <tr style=\"text-align: right;\">\n",
       "      <th></th>\n",
       "      <th>time</th>\n",
       "      <th>signal_denoised</th>\n",
       "      <th>open_channels_train</th>\n",
       "    </tr>\n",
       "  </thead>\n",
       "  <tbody>\n",
       "    <tr>\n",
       "      <th>0</th>\n",
       "      <td>0.0001</td>\n",
       "      <td>-2.497504</td>\n",
       "      <td>0</td>\n",
       "    </tr>\n",
       "    <tr>\n",
       "      <th>1</th>\n",
       "      <td>0.0002</td>\n",
       "      <td>-3.543952</td>\n",
       "      <td>0</td>\n",
       "    </tr>\n",
       "    <tr>\n",
       "      <th>2</th>\n",
       "      <td>0.0003</td>\n",
       "      <td>-0.952305</td>\n",
       "      <td>0</td>\n",
       "    </tr>\n",
       "    <tr>\n",
       "      <th>3</th>\n",
       "      <td>0.0004</td>\n",
       "      <td>-1.326738</td>\n",
       "      <td>0</td>\n",
       "    </tr>\n",
       "    <tr>\n",
       "      <th>4</th>\n",
       "      <td>0.0005</td>\n",
       "      <td>-3.603200</td>\n",
       "      <td>0</td>\n",
       "    </tr>\n",
       "    <tr>\n",
       "      <th>...</th>\n",
       "      <td>...</td>\n",
       "      <td>...</td>\n",
       "      <td>...</td>\n",
       "    </tr>\n",
       "    <tr>\n",
       "      <th>4999995</th>\n",
       "      <td>499.9996</td>\n",
       "      <td>3.296552</td>\n",
       "      <td>7</td>\n",
       "    </tr>\n",
       "    <tr>\n",
       "      <th>4999996</th>\n",
       "      <td>499.9997</td>\n",
       "      <td>3.586595</td>\n",
       "      <td>7</td>\n",
       "    </tr>\n",
       "    <tr>\n",
       "      <th>4999997</th>\n",
       "      <td>499.9998</td>\n",
       "      <td>3.957363</td>\n",
       "      <td>8</td>\n",
       "    </tr>\n",
       "    <tr>\n",
       "      <th>4999998</th>\n",
       "      <td>499.9999</td>\n",
       "      <td>4.474106</td>\n",
       "      <td>9</td>\n",
       "    </tr>\n",
       "    <tr>\n",
       "      <th>4999999</th>\n",
       "      <td>500.0000</td>\n",
       "      <td>2.416632</td>\n",
       "      <td>9</td>\n",
       "    </tr>\n",
       "  </tbody>\n",
       "</table>\n",
       "<p>5000000 rows × 3 columns</p>\n",
       "</div>"
      ],
      "text/plain": [
       "             time  signal_denoised  open_channels_train\n",
       "0          0.0001        -2.497504                    0\n",
       "1          0.0002        -3.543952                    0\n",
       "2          0.0003        -0.952305                    0\n",
       "3          0.0004        -1.326738                    0\n",
       "4          0.0005        -3.603200                    0\n",
       "...           ...              ...                  ...\n",
       "4999995  499.9996         3.296552                    7\n",
       "4999996  499.9997         3.586595                    7\n",
       "4999997  499.9998         3.957363                    8\n",
       "4999998  499.9999         4.474106                    9\n",
       "4999999  500.0000         2.416632                    9\n",
       "\n",
       "[5000000 rows x 3 columns]"
      ]
     },
     "execution_count": 4,
     "metadata": {},
     "output_type": "execute_result"
    }
   ],
   "source": [
    "time_train = train_df.time\n",
    "signal_train_denoised = denoise_signal(train_df.signal)\n",
    "open_channels_train = train_df.open_channels\n",
    "\n",
    "data = {\n",
    "    'time': time_train,\n",
    "    'signal_denoised': signal_train_denoised,\n",
    "    'open_channels_train': open_channels_train\n",
    "       }\n",
    "\n",
    "train_data = pd.DataFrame(data=data)\n",
    "train_data"
   ]
  },
  {
   "cell_type": "code",
   "execution_count": 5,
   "id": "d9801486",
   "metadata": {},
   "outputs": [],
   "source": [
    "# train_data.signal_denoised.hist(bins=1000, figsize=(15,10))"
   ]
  },
  {
   "cell_type": "code",
   "execution_count": 6,
   "id": "80068a7f",
   "metadata": {},
   "outputs": [],
   "source": [
    "# train_data\n",
    "# fig, axes = plt.subplots(figsize=(20,15))\n",
    "\n",
    "# axes.scatter(train_data.time.values, train_data.signal_denoised.values, c=train_data.open_channels_train.values, alpha=0.5 );\n",
    "# axes.set_xlabel('time')\n",
    "# axes.set_ylabel('signal denoised')\n",
    "# axes.legend()#(list(train_data.open_channels_train.unique()));"
   ]
  },
  {
   "cell_type": "code",
   "execution_count": 7,
   "id": "2016ec91",
   "metadata": {},
   "outputs": [],
   "source": [
    "from sklearn.model_selection import train_test_split\n",
    "\n",
    "X = train_data.drop('open_channels_train',axis=1)\n",
    "y = train_data.open_channels_train.values.reshape(-1,1).ravel()\n",
    "\n",
    "X_train, X_test, y_train, y_test = train_test_split(X, y, test_size=0.2, random_state=42)"
   ]
  },
  {
   "cell_type": "code",
   "execution_count": 11,
   "id": "dd7fc215",
   "metadata": {},
   "outputs": [],
   "source": [
    "from sklearn.preprocessing import QuantileTransformer, StandardScaler, LabelEncoder\n",
    "from tensorflow.keras.utils import to_categorical\n",
    "X_scaler = StandardScaler().fit(X_train)\n",
    "X_train_scaled = X_scaler.transform(X_train)\n",
    "X_test_scaled = X_scaler.transform(X_test)\n",
    "\n",
    "label_encoder = LabelEncoder()\n",
    "label_encoder.fit(y_train)\n",
    "encoded_y_train = label_encoder.transform(y_train)\n",
    "encoded_y_test = label_encoder.transform(y_test)\n",
    "\n",
    "y_train_categorical = to_categorical(encoded_y_train)\n",
    "y_test_categorical = to_categorical(encoded_y_test)"
   ]
  },
  {
   "cell_type": "code",
   "execution_count": 12,
   "id": "4b4166f5",
   "metadata": {},
   "outputs": [
    {
     "data": {
      "text/plain": [
       "(4000000, 2)"
      ]
     },
     "execution_count": 12,
     "metadata": {},
     "output_type": "execute_result"
    }
   ],
   "source": [
    "X_train_scaled.shape"
   ]
  },
  {
   "cell_type": "code",
   "execution_count": 15,
   "id": "6191e0cc",
   "metadata": {},
   "outputs": [
    {
     "name": "stdout",
     "output_type": "stream",
     "text": [
      "Model: \"sequential_3\"\n",
      "_________________________________________________________________\n",
      "Layer (type)                 Output Shape              Param #   \n",
      "=================================================================\n",
      "dense_17 (Dense)             (None, 50)                150       \n",
      "_________________________________________________________________\n",
      "dense_18 (Dense)             (None, 100)               5100      \n",
      "_________________________________________________________________\n",
      "dense_19 (Dense)             (None, 50)                5050      \n",
      "_________________________________________________________________\n",
      "dense_20 (Dense)             (None, 25)                1275      \n",
      "_________________________________________________________________\n",
      "dense_21 (Dense)             (None, 11)                286       \n",
      "=================================================================\n",
      "Total params: 11,861\n",
      "Trainable params: 11,861\n",
      "Non-trainable params: 0\n",
      "_________________________________________________________________\n",
      "None\n",
      "Epoch 1/20\n",
      "125000/125000 [==============================] - 391s 3ms/step - loss: 0.8488 - accuracy: 0.6234\n",
      "Epoch 2/20\n",
      "125000/125000 [==============================] - 365s 3ms/step - loss: 0.7619 - accuracy: 0.6548\n",
      "Epoch 3/20\n",
      "125000/125000 [==============================] - 365s 3ms/step - loss: 0.7544 - accuracy: 0.6583\n",
      "Epoch 4/20\n",
      "125000/125000 [==============================] - 373s 3ms/step - loss: 0.7508 - accuracy: 0.6596\n",
      "Epoch 5/20\n",
      "125000/125000 [==============================] - 376s 3ms/step - loss: 0.7494 - accuracy: 0.6603\n",
      "Epoch 6/20\n",
      "125000/125000 [==============================] - 388s 3ms/step - loss: 0.7489 - accuracy: 0.65970s - loss: 0.7489 - accuracy: 0.65\n",
      "Epoch 7/20\n",
      "125000/125000 [==============================] - 393s 3ms/step - loss: 0.7476 - accuracy: 0.6607\n",
      "Epoch 8/20\n",
      "125000/125000 [==============================] - 406s 3ms/step - loss: 0.7464 - accuracy: 0.6610\n",
      "Epoch 9/20\n",
      "125000/125000 [==============================] - 379s 3ms/step - loss: 0.7456 - accuracy: 0.66170s - loss: 0.7456 \n",
      "Epoch 10/20\n",
      "125000/125000 [==============================] - 392s 3ms/step - loss: 0.7449 - accuracy: 0.6616\n",
      "Epoch 11/20\n",
      "125000/125000 [==============================] - 375s 3ms/step - loss: 0.7453 - accuracy: 0.6615\n",
      "Epoch 12/20\n",
      "125000/125000 [==============================] - 363s 3ms/step - loss: 0.7449 - accuracy: 0.6620\n",
      "Epoch 13/20\n",
      "125000/125000 [==============================] - 372s 3ms/step - loss: 0.7441 - accuracy: 0.6618\n",
      "Epoch 14/20\n",
      "125000/125000 [==============================] - 368s 3ms/step - loss: 0.7430 - accuracy: 0.6627\n",
      "Epoch 15/20\n",
      "125000/125000 [==============================] - 373s 3ms/step - loss: 0.7430 - accuracy: 0.6622\n",
      "Epoch 16/20\n",
      "125000/125000 [==============================] - 364s 3ms/step - loss: 0.7437 - accuracy: 0.6619\n",
      "Epoch 17/20\n",
      "125000/125000 [==============================] - 371s 3ms/step - loss: 0.7425 - accuracy: 0.6626\n",
      "Epoch 18/20\n",
      "125000/125000 [==============================] - 362s 3ms/step - loss: 0.7429 - accuracy: 0.6624\n",
      "Epoch 19/20\n",
      "125000/125000 [==============================] - 365s 3ms/step - loss: 0.7427 - accuracy: 0.6626\n",
      "Epoch 20/20\n",
      "125000/125000 [==============================] - 367s 3ms/step - loss: 0.7430 - accuracy: 0.6625\n"
     ]
    },
    {
     "data": {
      "text/plain": [
       "<matplotlib.axes._subplots.AxesSubplot at 0x2714ab050d0>"
      ]
     },
     "execution_count": 15,
     "metadata": {},
     "output_type": "execute_result"
    },
    {
     "data": {
      "image/png": "[encoded data removed]",
      "text/plain": [
       "<Figure size 1440x720 with 1 Axes>"
      ]
     },
     "metadata": {
      "needs_background": "light"
     },
     "output_type": "display_data"
    }
   ],
   "source": [
    "from tensorflow.keras.models import Sequential\n",
    "from tensorflow.keras.layers import Dense\n",
    "\n",
    "model = Sequential()\n",
    "model.add(Dense(units=50, activation='relu', input_dim=X_train_scaled.shape[1]))\n",
    "model.add(Dense(units=100, activation='relu'))\n",
    "model.add(Dense(units=50, activation='relu'))\n",
    "model.add(Dense(units=25, activation='relu'))\n",
    "model.add(Dense(units=11, activation='softmax'))\n",
    "model.compile(optimizer='adam',\n",
    "              loss='categorical_crossentropy',\n",
    "              metrics=['accuracy'])\n",
    "print(model.summary())\n",
    "\n",
    "history = model.fit(\n",
    "    X_train_scaled,\n",
    "    y_train_categorical,\n",
    "    epochs=20,\n",
    "    shuffle=True,\n",
    "    verbose=1\n",
    ")\n",
    "\n",
    "pd.DataFrame(history.history).plot(figsize=(20,10))\n",
    "\n",
    "# print('\\n----------------------------------------------------------------\\n')\n",
    "\n",
    "# model_loss, model_accuracy = model.evaluate(\n",
    "#     X_test_scaled, y_test_categorical, verbose=2)\n",
    "# print(f\"Normal Neural Network - Loss: {model_loss}, Accuracy: {model_accuracy}\")\n",
    "\n",
    "# encoded_predictions = model.predict_classes(X_test_scaled[:100])\n",
    "# prediction_labels = label_encoder.inverse_transform(encoded_predictions)\n",
    "\n",
    "# print(f'''\n",
    "# Predicted classes: {list([i for i in prediction_labels])}\n",
    "# Actual Labels: {[i for i in y_test[:100]]}\n",
    "# ''')"
   ]
  },
  {
   "cell_type": "code",
   "execution_count": null,
   "id": "02227ae7",
   "metadata": {},
   "outputs": [],
   "source": []
  },
  {
   "cell_type": "code",
   "execution_count": null,
   "id": "f2313dfb",
   "metadata": {},
   "outputs": [],
   "source": []
  },
  {
   "cell_type": "code",
   "execution_count": null,
   "id": "50748f59",
   "metadata": {},
   "outputs": [],
   "source": []
  },
  {
   "cell_type": "code",
   "execution_count": null,
   "id": "ffff0340",
   "metadata": {},
   "outputs": [],
   "source": []
  }
 ],
 "metadata": {
  "kernelspec": {
   "display_name": "Python 3",
   "language": "python",
   "name": "python3"
  },
  "language_info": {
   "codemirror_mode": {
    "name": "ipython",
    "version": 3
   },
   "file_extension": ".py",
   "mimetype": "text/x-python",
   "name": "python",
   "nbconvert_exporter": "python",
   "pygments_lexer": "ipython3",
   "version": "3.8.8"
  }
 },
 "nbformat": 4,
 "nbformat_minor": 5
}
