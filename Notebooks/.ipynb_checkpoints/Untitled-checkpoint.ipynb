{
 "cells": [
  {
   "cell_type": "code",
   "execution_count": 1,
   "id": "2d5047af",
   "metadata": {},
   "outputs": [
    {
     "name": "stderr",
     "output_type": "stream",
     "text": [
      "\n",
      "Bad key \"text.kerning_factor\" on line 4 in\n",
      "C:\\Users\\Ayman\\anaconda3\\lib\\site-packages\\matplotlib\\mpl-data\\stylelib\\_classic_test_patch.mplstyle.\n",
      "You probably need to get an updated matplotlibrc file from\n",
      "https://github.com/matplotlib/matplotlib/blob/v3.1.2/matplotlibrc.template\n",
      "or from the matplotlib source distribution\n"
     ]
    }
   ],
   "source": [
    "import pandas as pd\n",
    "import numpy as np\n",
    "import matplotlib.pyplot as plt\n",
    "from mpl_toolkits import mplot3d\n",
    "import os\n",
    "import seaborn as sns\n",
    "%matplotlib inline\n",
    "\n",
    "import pywt\n",
    "import scipy\n",
    "from scipy import signal\n",
    "from scipy.signal import butter, deconvolve\n",
    "\n",
    "\n",
    "\n",
    "import tensorflow as tf\n",
    "import datetime\n",
    "from sklearn.model_selection import train_test_split\n",
    "from sklearn.preprocessing import MinMaxScaler, LabelEncoder\n",
    "from tensorflow.keras.losses import sparse_categorical_crossentropy\n",
    "from tensorflow.keras.utils import to_categorical\n",
    "\n",
    "from tensorflow.keras.models import Sequential\n",
    "from tensorflow.keras.layers import Dense"
   ]
  },
  {
   "cell_type": "code",
   "execution_count": 2,
   "id": "e937331b",
   "metadata": {},
   "outputs": [],
   "source": [
    "test_path = os.path.join('data','test.csv')\n",
    "train_path = os.path.join('data','train.csv')\n",
    "\n",
    "test_df = pd.read_csv(test_path)\n",
    "train_df = pd.read_csv(train_path)"
   ]
  },
  {
   "cell_type": "code",
   "execution_count": 3,
   "id": "b62ae71d",
   "metadata": {},
   "outputs": [],
   "source": [
    "def maddest(d, axis=None):\n",
    "    return np.mean(np.absolute(d - np.mean(d, axis)), axis)\n",
    "\n",
    "def denoise_signal(x, wavelet='db4', level=1):\n",
    "    coeff = pywt.wavedec(x, wavelet, mode=\"per\")\n",
    "    sigma = (1/0.6745) * maddest(coeff[-level])\n",
    "\n",
    "    uthresh = sigma * np.sqrt(2*np.log(len(x)))\n",
    "    coeff[1:] = (pywt.threshold(i, value=uthresh, mode='hard') for i in coeff[1:])\n",
    "\n",
    "    return pywt.waverec(coeff, wavelet, mode='per')"
   ]
  },
  {
   "cell_type": "code",
   "execution_count": 4,
   "id": "4b7d6fe0",
   "metadata": {},
   "outputs": [],
   "source": [
    "time_train = train_df.time\n",
    "signal_train_denoised = denoise_signal(train_df.signal)\n",
    "open_channels_train = train_df.open_channels\n",
    "\n",
    "data = {\n",
    "    'time': time_train,\n",
    "    'signal_denoised': signal_train_denoised,\n",
    "    'open_channels_train': open_channels_train\n",
    "       }\n",
    "\n",
    "train_data = pd.DataFrame(data=data)"
   ]
  },
  {
   "cell_type": "code",
   "execution_count": null,
   "id": "ae84134a",
   "metadata": {},
   "outputs": [],
   "source": []
  },
  {
   "cell_type": "code",
   "execution_count": 5,
   "id": "da3bd7a4",
   "metadata": {},
   "outputs": [
    {
     "name": "stderr",
     "output_type": "stream",
     "text": [
      "C:\\Users\\Ayman\\AppData\\Roaming\\Python\\Python38\\site-packages\\sklearn\\utils\\validation.py:73: DataConversionWarning: A column-vector y was passed when a 1d array was expected. Please change the shape of y to (n_samples, ), for example using ravel().\n",
      "  return f(**kwargs)\n"
     ]
    }
   ],
   "source": [
    "from sklearn.model_selection import train_test_split\n",
    "\n",
    "X = train_data[['time','signal_denoised']]\n",
    "y = train_data.open_channels_train.values.reshape(-1,1)\n",
    "\n",
    "X_train, X_test, y_train, y_test = train_test_split(X, y, test_size=0.2, random_state=42)\n",
    "    \n",
    "X_scaler = MinMaxScaler().fit(X_train)\n",
    "X_train_scaled = X_scaler.transform(X_train)\n",
    "X_test_scaled = X_scaler.transform(X_test)\n",
    "\n",
    "label_encoder = LabelEncoder()\n",
    "label_encoder.fit(y_train)\n",
    "encoded_y_train = label_encoder.transform(y_train)\n",
    "encoded_y_test = label_encoder.transform(y_test)\n",
    "\n",
    "y_train_categorical = to_categorical(encoded_y_train)\n",
    "y_test_categorical = to_categorical(encoded_y_test)"
   ]
  },
  {
   "cell_type": "code",
   "execution_count": 6,
   "id": "a146cb51",
   "metadata": {},
   "outputs": [
    {
     "data": {
      "text/plain": [
       "(1000000, 2)"
      ]
     },
     "execution_count": 6,
     "metadata": {},
     "output_type": "execute_result"
    }
   ],
   "source": [
    "X_test_scaled.shape"
   ]
  },
  {
   "cell_type": "code",
   "execution_count": 7,
   "id": "a02d18ea",
   "metadata": {},
   "outputs": [
    {
     "name": "stdout",
     "output_type": "stream",
     "text": [
      "Model: \"sequential\"\n",
      "_________________________________________________________________\n",
      "Layer (type)                 Output Shape              Param #   \n",
      "=================================================================\n",
      "dense (Dense)                (None, 100)               300       \n",
      "_________________________________________________________________\n",
      "dense_1 (Dense)              (None, 200)               20200     \n",
      "_________________________________________________________________\n",
      "dropout (Dropout)            (None, 200)               0         \n",
      "_________________________________________________________________\n",
      "dense_2 (Dense)              (None, 11)                2211      \n",
      "=================================================================\n",
      "Total params: 22,711\n",
      "Trainable params: 22,711\n",
      "Non-trainable params: 0\n",
      "_________________________________________________________________\n"
     ]
    }
   ],
   "source": [
    "import tensorflow as tf\n",
    "import datetime\n",
    "from sklearn.model_selection import train_test_split\n",
    "from sklearn.preprocessing import MinMaxScaler, LabelEncoder\n",
    "from tensorflow.keras.losses import sparse_categorical_crossentropy\n",
    "from tensorflow.keras.utils import to_categorical\n",
    "\n",
    "from tensorflow.keras.models import Sequential\n",
    "from tensorflow.keras.layers import Dense, Dropout\n",
    "\n",
    "\n",
    "\n",
    "def deep_learning_model(inputs=2, epochs=10, outputs=11, activation='relu'):\n",
    "    \n",
    "    model = Sequential()\n",
    "    model.add(Dense(units=100, activation=activation, input_dim=inputs))\n",
    "    model.add(Dense(units=200, activation=activation))\n",
    "    model.add(Dropout(.1))\n",
    "    model.add(Dense(units=outputs, activation='softmax'))\n",
    "    model.compile(optimizer='adam',\n",
    "                  loss='categorical_crossentropy',\n",
    "                  metrics=['accuracy',tf.keras.metrics.AUC()])\n",
    "\n",
    "\n",
    "#     print(model.summary())\n",
    "    \n",
    "#     model.fit(\n",
    "#         X_train_scaled,\n",
    "#         y_train_categorical,\n",
    "#         epochs=epochs,\n",
    "#         batch_size = 200,\n",
    "#         shuffle=True,\n",
    "#         verbose=2\n",
    "#     )\n",
    "    return model\n",
    "\n",
    "deep_learning_model(inputs=2, epochs=10, outputs=11, activation=tf.nn.leaky_relu).summary()"
   ]
  },
  {
   "cell_type": "code",
   "execution_count": 8,
   "id": "efcf4843",
   "metadata": {
    "tags": []
   },
   "outputs": [
    {
     "name": "stdout",
     "output_type": "stream",
     "text": [
      "Epoch 1/10\n",
      "20000/20000 [==============================] - 90s 4ms/step - loss: 1.0774 - accuracy: 0.5549 - auc_1: 0.9378\n",
      "Epoch 2/10\n",
      "20000/20000 [==============================] - 84s 4ms/step - loss: 0.8815 - accuracy: 0.6119 - auc_1: 0.9587 0s - loss: 0.8816 - accura\n",
      "Epoch 3/10\n",
      "20000/20000 [==============================] - 87s 4ms/step - loss: 0.8508 - accuracy: 0.6218 - auc_1: 0.9612\n",
      "Epoch 4/10\n",
      "20000/20000 [==============================] - 85s 4ms/step - loss: 0.8339 - accuracy: 0.6278 - auc_1: 0.9625\n",
      "Epoch 5/10\n",
      "20000/20000 [==============================] - 83s 4ms/step - loss: 0.8216 - accuracy: 0.6321 - auc_1: 0.9634\n",
      "Epoch 6/10\n",
      "20000/20000 [==============================] - 89s 4ms/step - loss: 0.8126 - accuracy: 0.6353 - auc_1: 0.9642\n",
      "Epoch 7/10\n",
      "20000/20000 [==============================] - 82s 4ms/step - loss: 0.8058 - accuracy: 0.6375 - auc_1: 0.9647 1s - loss:\n",
      "Epoch 8/10\n",
      "20000/20000 [==============================] - 89s 4ms/step - loss: 0.8008 - accuracy: 0.6398 - auc_1: 0.9651\n",
      "Epoch 9/10\n",
      "20000/20000 [==============================] - 91s 5ms/step - loss: 0.7956 - accuracy: 0.6417 - auc_1: 0.9655\n",
      "Epoch 10/10\n",
      "20000/20000 [==============================] - 91s 5ms/step - loss: 0.7921 - accuracy: 0.6432 - auc_1: 0.9658\n"
     ]
    },
    {
     "data": {
      "text/plain": [
       "<tensorflow.python.keras.callbacks.History at 0x208c03ce4c0>"
      ]
     },
     "execution_count": 8,
     "metadata": {},
     "output_type": "execute_result"
    }
   ],
   "source": [
    "model = deep_learning_model(inputs=2,outputs=11, activation=tf.nn.leaky_relu).fit(\n",
    "        X_train_scaled,\n",
    "        y_train_categorical,\n",
    "        epochs=50,\n",
    "        batch_size = 200,\n",
    "        shuffle=True,\n",
    "        verbose=1\n",
    "    )\n",
    "model\n"
   ]
  },
  {
   "cell_type": "code",
   "execution_count": 9,
   "id": "0af8acd0",
   "metadata": {},
   "outputs": [
    {
     "data": {
      "text/plain": [
       "<matplotlib.axes._subplots.AxesSubplot at 0x20909e26460>"
      ]
     },
     "execution_count": 9,
     "metadata": {},
     "output_type": "execute_result"
    },
    {
     "data": {
      "image/png": "[encoded data removed]",
      "text/plain": [
       "<Figure size 432x288 with 1 Axes>"
      ]
     },
     "metadata": {
      "needs_background": "light"
     },
     "output_type": "display_data"
    }
   ],
   "source": [
    "pd.DataFrame(model.history).plot()"
   ]
  }
 ],
 "metadata": {
  "kernelspec": {
   "display_name": "Python 3",
   "language": "python",
   "name": "python3"
  },
  "language_info": {
   "codemirror_mode": {
    "name": "ipython",
    "version": 3
   },
   "file_extension": ".py",
   "mimetype": "text/x-python",
   "name": "python",
   "nbconvert_exporter": "python",
   "pygments_lexer": "ipython3",
   "version": "3.8.8"
  }
 },
 "nbformat": 4,
 "nbformat_minor": 5
}
